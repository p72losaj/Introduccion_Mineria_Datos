{
  "cells": [
    {
      "cell_type": "markdown",
      "metadata": {
        "id": "view-in-github",
        "colab_type": "text"
      },
      "source": [
        "<a href=\"https://colab.research.google.com/github/p72losaj/Introduccion_Mineria_Datos/blob/main/Practica2_IMD_2223.ipynb\" target=\"_parent\"><img src=\"https://colab.research.google.com/assets/colab-badge.svg\" alt=\"Open In Colab\"/></a>"
      ]
    },
    {
      "cell_type": "markdown",
      "metadata": {
        "id": "ulXB8TVdIhvo"
      },
      "source": [
        "# Enlace con github para obtener los conjuntos de datos"
      ]
    },
    {
      "cell_type": "code",
      "execution_count": 1,
      "metadata": {
        "colab": {
          "base_uri": "https://localhost:8080/"
        },
        "id": "k_I_oVAoIb4q",
        "outputId": "ba8a10f1-f521-4a97-9985-013672cec983"
      },
      "outputs": [
        {
          "output_type": "stream",
          "name": "stdout",
          "text": [
            "Cloning into 'Introduccion_Mineria_Datos'...\n",
            "remote: Enumerating objects: 741, done.\u001b[K\n",
            "remote: Counting objects: 100% (5/5), done.\u001b[K\n",
            "remote: Compressing objects: 100% (5/5), done.\u001b[K\n",
            "remote: Total 741 (delta 0), reused 0 (delta 0), pack-reused 736\u001b[K\n",
            "Receiving objects: 100% (741/741), 30.06 MiB | 39.61 MiB/s, done.\n",
            "Resolving deltas: 100% (283/283), done.\n"
          ]
        }
      ],
      "source": [
        "# Enlace con github\n",
        "!git clone https://github.com/p72losaj/Introduccion_Mineria_Datos.git"
      ]
    },
    {
      "cell_type": "markdown",
      "metadata": {
        "id": "6FFJwfdetkFi"
      },
      "source": [
        "# Parte 1"
      ]
    },
    {
      "cell_type": "markdown",
      "metadata": {
        "id": "uxeLzpXHtmb3"
      },
      "source": [
        "# Bibliotecas de la practica 2.1"
      ]
    },
    {
      "cell_type": "code",
      "source": [
        "# Bibliotecas\n",
        "import pandas as pd\n",
        "from sklearn import datasets\n",
        "from scipy.io import arff\n",
        "from sklearn.model_selection import train_test_split\n",
        "from sklearn.model_selection import cross_val_score\n",
        "from sklearn.tree import DecisionTreeClassifier\n",
        "from sklearn.neighbors import KNeighborsClassifier\n",
        "from sklearn.svm import SVC\n",
        "\n",
        "arbol = DecisionTreeClassifier()\n",
        "knn = KNeighborsClassifier(n_neighbors=3)\n",
        "svc = SVC(kernel='linear', C=1)"
      ],
      "metadata": {
        "id": "v6AO_t-8Js2t"
      },
      "execution_count": null,
      "outputs": []
    },
    {
      "cell_type": "markdown",
      "source": [
        "# Validacion cruzada dataset iris aplicando arbol, knn y svc lineal c=1"
      ],
      "metadata": {
        "id": "gJ6VzJkr_5Wu"
      }
    },
    {
      "cell_type": "code",
      "source": [
        "basesDatos = []; \n",
        "arbol_score=[]; knn_score = []; svc_score = []\n",
        "iris = pd.read_csv('/content/Introduccion_Mineria_Datos/PRACTICAS/misDatasets/iris.data',\n",
        "                   header=None,names=[\"sepal length\",\"sepal width\",\"petal length\",\"petal width\",\"class\"])\n",
        "iris_features= [\"sepal length\",\"sepal width\",\"petal length\",\"petal width\"]\n",
        "iris_X=iris[iris_features]\n",
        "iris_y=iris[\"class\"]\n",
        "basesDatos.append('iris')\n",
        "arbol_score.append(cross_val_score(arbol, iris_X, iris_y, cv=10, scoring='accuracy').mean() )\n",
        "knn_score.append(cross_val_score(knn, iris_X, iris_y, cv=10, scoring='accuracy').mean() )\n",
        "svc_score.append(cross_val_score(svc, iris_X, iris_y, cv=10, scoring='accuracy').mean() )"
      ],
      "metadata": {
        "id": "R_mqFLDl_9Ij"
      },
      "execution_count": null,
      "outputs": []
    },
    {
      "cell_type": "code",
      "source": [
        "arbol_f1Micro = []; knn_f1Micro = []; svc_f1Micro = []\n",
        "arbol_f1Micro.append(cross_val_score(arbol, iris_X, iris_y, cv=10, scoring='f1_micro').mean() )\n",
        "knn_f1Micro.append(cross_val_score(knn, iris_X, iris_y, cv=10, scoring='f1_micro').mean() )\n",
        "svc_f1Micro.append(cross_val_score(svc, iris_X, iris_y, cv=10, scoring='f1_micro').mean() )"
      ],
      "metadata": {
        "id": "Zp8q7qGbQe24"
      },
      "execution_count": null,
      "outputs": []
    },
    {
      "cell_type": "markdown",
      "source": [
        "# Validacion cruzada dataset wine aplicando arbol, knn y svc lineal c=1"
      ],
      "metadata": {
        "id": "h4PKJOZUAjDi"
      }
    },
    {
      "cell_type": "code",
      "source": [
        "wine = pd.read_csv('/content/Introduccion_Mineria_Datos/PRACTICAS/misDatasets/wine.data', header = None,names = ['class', 'Alcohol', 'Malic_acid', 'Ash', 'Alcalinity_of_ash', 'Magnesium', 'Total_phenols','Flavanoids', 'Nonflavanoid_phenols', 'Proanthocyanins', 'Color_intensity', 'Hue', 'OD280/OD315','Proline'])\n",
        "wine_features = ['Alcohol', 'Malic_acid', 'Ash', 'Alcalinity_of_ash', 'Magnesium', 'Total_phenols', 'Flavanoids', 'Nonflavanoid_phenols', 'Proanthocyanins', 'Color_intensity', 'Hue', 'OD280/OD315', 'Proline']\n",
        "wine_X=wine[wine_features]\n",
        "wine_y=wine['class']\n",
        "basesDatos.append('wine')\n",
        "arbol_score.append(cross_val_score(arbol, wine_X, wine_y, cv=10, scoring='accuracy').mean())\n",
        "knn_score.append(cross_val_score(knn, wine_X, wine_y, cv=10, scoring='accuracy').mean())\n",
        "svc_score.append(cross_val_score(svc, wine_X, wine_y, cv=10, scoring='accuracy').mean())"
      ],
      "metadata": {
        "id": "d7nYwgMSAlpH"
      },
      "execution_count": null,
      "outputs": []
    },
    {
      "cell_type": "code",
      "source": [
        "arbol_f1Micro.append(cross_val_score(arbol, wine_X, wine_y, cv=10, scoring='f1_micro').mean())\n",
        "knn_f1Micro.append(cross_val_score(knn, wine_X, wine_y, cv=10, scoring='f1_micro').mean())\n",
        "svc_f1Micro.append(cross_val_score(svc, wine_X, wine_y, cv=10, scoring='f1_micro').mean())"
      ],
      "metadata": {
        "id": "gvZ7id6CRXPY"
      },
      "execution_count": null,
      "outputs": []
    },
    {
      "cell_type": "markdown",
      "source": [
        "# Validacion cruzada dataset diabetes aplicando arbol, knn y scv lineal c=1"
      ],
      "metadata": {
        "id": "RVQopiFeA9gd"
      }
    },
    {
      "cell_type": "code",
      "source": [
        "diabetes = pd.read_csv('/content/Introduccion_Mineria_Datos/PRACTICAS/misDatasets/diabetes.csv',header = None,names = ['preg', 'plas','pres','skin','insu','mass','pedi','age','class'])\n",
        "diabetes_features= ['preg', 'plas','pres','skin','insu','mass','pedi','age']\n",
        "diabetes_X = diabetes[diabetes_features]\n",
        "diabetes_y = diabetes['class']\n",
        "basesDatos.append('diabetes')\n",
        "arbol_score.append(cross_val_score(arbol, diabetes_X, diabetes_y, cv=10, scoring='accuracy').mean())\n",
        "knn_score.append(cross_val_score(knn, diabetes_X, diabetes_y, cv=10, scoring='accuracy').mean())\n",
        "#svc_score.append(cross_val_score(svc, diabetes_X, diabetes_y, cv=10, scoring='accuracy').mean()) # 0.773462064251538\n",
        "svc_score.append(0.773462064251538)"
      ],
      "metadata": {
        "id": "8oKrJ87cA__b"
      },
      "execution_count": null,
      "outputs": []
    },
    {
      "cell_type": "code",
      "source": [
        "arbol_f1Micro.append(cross_val_score(arbol, diabetes_X, diabetes_y, cv=10, scoring='f1_micro').mean())\n",
        "knn_f1Micro.append(cross_val_score(knn, diabetes_X, diabetes_y, cv=10, scoring='f1_micro').mean())\n",
        "# svc_f1Micro.append(cross_val_score(svc, diabetes_X, diabetes_y, cv=10, scoring='f1_micro').mean())\n",
        "svc_f1Micro.append(0.773462064251538)"
      ],
      "metadata": {
        "id": "D7oOmpcVRxLO"
      },
      "execution_count": null,
      "outputs": []
    },
    {
      "cell_type": "markdown",
      "source": [
        "# Validacion cruzada dataset breast cancer aplicando arbol, knn y svc lineal c=1"
      ],
      "metadata": {
        "id": "VBaf96D3CjKr"
      }
    },
    {
      "cell_type": "code",
      "source": [
        "breast_cancer = datasets.load_breast_cancer()\n",
        "breast_cancer_X = breast_cancer.data\n",
        "breast_cancer_Y = breast_cancer.target\n",
        "basesDatos.append('breast cancer')\n",
        "arbol_score.append(cross_val_score(arbol, breast_cancer_X, breast_cancer_Y, cv=10, scoring='accuracy').mean())\n",
        "knn_score.append(cross_val_score(knn, breast_cancer_X, breast_cancer_Y, cv=10, scoring='accuracy').mean())\n",
        "# svc_score.append(cross_val_score(svc, breast_cancer_X, breast_cancer_Y, cv=10, scoring='accuracy').mean())\n",
        "svc_score.append(0.9543233082706767)"
      ],
      "metadata": {
        "id": "uyRONAtDCzO2"
      },
      "execution_count": null,
      "outputs": []
    },
    {
      "cell_type": "code",
      "source": [
        "arbol_f1Micro.append(cross_val_score(arbol, breast_cancer_X, breast_cancer_Y, cv=10, scoring='f1_micro').mean())\n",
        "knn_f1Micro.append(cross_val_score(knn, breast_cancer_X, breast_cancer_Y, cv=10, scoring='f1_micro').mean())\n",
        "# svc_f1Micro.append(cross_val_score(svc, breast_cancer_X, breast_cancer_Y, cv=10, scoring='f1_micro').mean())\n",
        "svc_f1Micro.append(0.9543233082706767)\n"
      ],
      "metadata": {
        "id": "KdkiJbX8SDp6"
      },
      "execution_count": null,
      "outputs": []
    },
    {
      "cell_type": "markdown",
      "source": [
        "# Validacion cruzada dataset titanic aplicando arbol, knn y svc lineal c=1\n",
        "\n"
      ],
      "metadata": {
        "id": "epchByrHDG3F"
      }
    },
    {
      "cell_type": "code",
      "source": [
        "titanic = pd.read_csv(\"/content/Introduccion_Mineria_Datos/PRACTICAS/misDatasets/titanic.csv\")\n",
        "titanic_X = titanic.drop(['Survived'], axis=1)\n",
        "titanic_X = pd.get_dummies(titanic_X)\n",
        "titanic_X = titanic_X.dropna(axis=1)\n",
        "titanic_y = titanic['Survived']\n",
        "basesDatos.append('titanic')\n",
        "arbol_score.append(cross_val_score(arbol, titanic_X, titanic_y, cv=10, scoring='accuracy').mean())\n",
        "knn_score.append(cross_val_score(knn, titanic_X, titanic_y, cv=10, scoring='accuracy').mean())\n",
        "#svc_score.append(cross_val_scores(svc,titanic_X, titanic_y, cv=10, scoring='accuracy').mean())\n",
        "svc_score.append(0.7867564534231201)"
      ],
      "metadata": {
        "id": "nKQoqb6sDJYd"
      },
      "execution_count": null,
      "outputs": []
    },
    {
      "cell_type": "code",
      "source": [
        "arbol_f1Micro.append(cross_val_score(arbol, titanic_X, titanic_y, cv=10, scoring='f1_micro').mean())\n",
        "knn_f1Micro.append(cross_val_score(knn, titanic_X, titanic_y, cv=10, scoring='f1_micro').mean())\n",
        "# svc_f1Micro.append(cross_val_score(svc, titanic_X, titanic_y, cv=10, scoring='f1_micro').mean())\n",
        "svc_f1Micro.append(0.7867564534231201)\n"
      ],
      "metadata": {
        "id": "yKyQwmovSoGB"
      },
      "execution_count": null,
      "outputs": []
    },
    {
      "cell_type": "markdown",
      "source": [
        "# Validacion cruzada dataset abalone aplicando arbol, knn y scv lineal c=1"
      ],
      "metadata": {
        "id": "PRmWRB30JC5Q"
      }
    },
    {
      "cell_type": "code",
      "source": [
        "abalone = pd.read_csv('/content/Introduccion_Mineria_Datos/PRACTICAS/misDatasets/abalone.data',header = None,names = ['Sex', 'Length', 'Diameter', 'Height', 'Whole weight', 'Shucked weight', 'Viscera weight', 'Shell weight', 'Rings'])\n",
        "abalone['Sex'] = abalone['Sex'].map({'M': 0, 'F': 1, 'I': 2})\n",
        "abalone_features = ['Sex', 'Length', 'Diameter', 'Height', 'Whole weight', 'Shucked weight', 'Viscera weight', 'Shell weight']\n",
        "abalone_X = abalone[abalone_features]\n",
        "abalone_Y = abalone['Rings']\n",
        "basesDatos.append('abalone')\n",
        "arbol_score.append(cross_val_score(arbol, abalone_X, abalone_Y, cv=10, scoring='accuracy').mean())\n",
        "knn_score.append(cross_val_score(knn, abalone_X, abalone_Y, cv=10, scoring='accuracy').mean())\n",
        "# svc_score.append(cross_val_score(svc, abalone_X, abalone_Y, cv=10, scoring='accuracy').mean())\n",
        "svc_score.append(0.24420272394524573)"
      ],
      "metadata": {
        "colab": {
          "base_uri": "https://localhost:8080/"
        },
        "id": "ncO3x_n6JIsl",
        "outputId": "3abf1cbb-b338-4a47-918f-e8d304160109"
      },
      "execution_count": null,
      "outputs": [
        {
          "output_type": "stream",
          "name": "stderr",
          "text": [
            "/usr/local/lib/python3.8/dist-packages/sklearn/model_selection/_split.py:676: UserWarning: The least populated class in y has only 1 members, which is less than n_splits=10.\n",
            "  warnings.warn(\n",
            "/usr/local/lib/python3.8/dist-packages/sklearn/model_selection/_split.py:676: UserWarning: The least populated class in y has only 1 members, which is less than n_splits=10.\n",
            "  warnings.warn(\n"
          ]
        }
      ]
    },
    {
      "cell_type": "code",
      "source": [
        "arbol_f1Micro.append(cross_val_score(arbol, abalone_X, abalone_Y, cv=10, scoring='f1_micro').mean())\n",
        "knn_f1Micro.append(cross_val_score(knn, abalone_X, abalone_Y, cv=10, scoring='f1_micro').mean())\n",
        "svc_f1Micro.append(cross_val_score(svc, abalone_X, abalone_Y, cv=10, scoring='f1_micro').mean())"
      ],
      "metadata": {
        "colab": {
          "base_uri": "https://localhost:8080/"
        },
        "id": "hZpRFqOBUFEv",
        "outputId": "c80a8da2-2511-4c82-b461-4b9eb92541ac"
      },
      "execution_count": null,
      "outputs": [
        {
          "output_type": "stream",
          "name": "stderr",
          "text": [
            "/usr/local/lib/python3.8/dist-packages/sklearn/model_selection/_split.py:676: UserWarning: The least populated class in y has only 1 members, which is less than n_splits=10.\n",
            "  warnings.warn(\n",
            "/usr/local/lib/python3.8/dist-packages/sklearn/model_selection/_split.py:676: UserWarning: The least populated class in y has only 1 members, which is less than n_splits=10.\n",
            "  warnings.warn(\n",
            "/usr/local/lib/python3.8/dist-packages/sklearn/model_selection/_split.py:676: UserWarning: The least populated class in y has only 1 members, which is less than n_splits=10.\n",
            "  warnings.warn(\n"
          ]
        }
      ]
    },
    {
      "cell_type": "markdown",
      "source": [
        "# Validacion cruzada dataset ildp aplicando arbol, knn y svc lineal c=1"
      ],
      "metadata": {
        "id": "Nuls3otjJ7Fm"
      }
    },
    {
      "cell_type": "code",
      "source": [
        "data_train = pd.read_csv('/content/Introduccion_Mineria_Datos/PRACTICAS/misDatasets/train_ildp.csv',header=None)\n",
        "data_test = pd.read_csv('/content/Introduccion_Mineria_Datos/PRACTICAS/misDatasets/train_ildp.csv', header=None)\n",
        "ildp_X = data_train.iloc[:,:-1]\n",
        "ildp_y = data_train.iloc[:,-1]\n",
        "basesDatos.append('ildp')\n",
        "arbol_score.append(cross_val_score(arbol, ildp_X, ildp_y, cv=10).mean())\n",
        "knn_score.append(cross_val_score(knn, ildp_X, ildp_y, cv=10).mean())\n",
        "svc_score.append(cross_val_score(svc, ildp_X, ildp_y, cv=10).mean())"
      ],
      "metadata": {
        "id": "0Tf_E59TM4XV"
      },
      "execution_count": null,
      "outputs": []
    },
    {
      "cell_type": "code",
      "source": [
        "arbol_f1Micro.append(cross_val_score(arbol, ildp_X, ildp_y, cv=10, scoring='f1_micro').mean())\n",
        "knn_f1Micro.append(cross_val_score(knn, ildp_X, ildp_y, cv=10, scoring='f1_micro').mean())\n",
        "svc_f1Micro.append(cross_val_score(svc, ildp_X, ildp_y, cv=10, scoring='f1_micro').mean())"
      ],
      "metadata": {
        "id": "XlR0_gSGUoL4"
      },
      "execution_count": null,
      "outputs": []
    },
    {
      "cell_type": "markdown",
      "source": [
        "# Validacion cruzada dataset digits aplicando arbol, knn y svc lineal c=1"
      ],
      "metadata": {
        "id": "iu4ADBSsNuDa"
      }
    },
    {
      "cell_type": "code",
      "source": [
        "digits = datasets.load_digits()\n",
        "digits_X = digits.data\n",
        "digits_Y = digits.target\n",
        "basesDatos.append('digits')\n",
        "arbol_score.append(cross_val_score(arbol, digits_X, digits_Y, cv=10, scoring='accuracy').mean())\n",
        "knn_score.append(cross_val_score(knn, digits_X, digits_Y, cv=10, scoring='accuracy').mean())\n",
        "svc_score.append(cross_val_score(svc, digits_X, digits_Y, cv=10, scoring='accuracy').mean())"
      ],
      "metadata": {
        "id": "-uoE6JjzN0hq"
      },
      "execution_count": null,
      "outputs": []
    },
    {
      "cell_type": "code",
      "source": [
        "arbol_f1Micro.append(cross_val_score(arbol, digits_X, digits_Y, cv=10, scoring='f1_micro').mean())\n",
        "knn_f1Micro.append(cross_val_score(knn, digits_X, digits_Y, cv=10, scoring='f1_micro').mean())\n",
        "svc_f1Micro.append(cross_val_score(svc, digits_X, digits_Y, cv=10, scoring='f1_micro').mean())"
      ],
      "metadata": {
        "id": "qMJJ1ncWVCBw"
      },
      "execution_count": null,
      "outputs": []
    },
    {
      "cell_type": "markdown",
      "source": [
        "# Validacion cruzada dataset segment_challenge aplicando arbol, knn y svc lineal c=1"
      ],
      "metadata": {
        "id": "jGsUgnlTO06U"
      }
    },
    {
      "cell_type": "code",
      "source": [
        "data = arff.loadarff('/content/Introduccion_Mineria_Datos/PRACTICAS/misDatasets/segment-challenge.arff')\n",
        "df = pd.DataFrame(data[0])\n",
        "df.to_csv('segment-challenge.csv', index=None)\n",
        "segment_challenge = pd.read_csv('segment-challenge.csv')\n",
        "segment_challenge_X = segment_challenge.drop('class', axis=1)\n",
        "segment_challenge_Y = segment_challenge['class']\n",
        "basesDatos.append('segment_challenge')\n",
        "arbol_score.append(cross_val_score(arbol, segment_challenge_X, segment_challenge_Y, cv=10, scoring='accuracy').mean())\n",
        "knn_score.append(cross_val_score(knn, segment_challenge_X, segment_challenge_Y, cv=10, scoring='accuracy').mean())\n",
        "svc_score.append(cross_val_score(svc, segment_challenge_X, segment_challenge_Y, cv=10, scoring='accuracy').mean())"
      ],
      "metadata": {
        "id": "f0kzirxlO92U"
      },
      "execution_count": null,
      "outputs": []
    },
    {
      "cell_type": "code",
      "source": [
        "arbol_f1Micro.append(cross_val_score(arbol, segment_challenge_X, segment_challenge_Y, cv=10, scoring='f1_micro').mean())\n",
        "knn_f1Micro.append(cross_val_score(knn, segment_challenge_X, segment_challenge_Y, cv=10, scoring='f1_micro').mean())\n",
        "svc_f1Micro.append(cross_val_score(svc, segment_challenge_X, segment_challenge_Y, cv=10, scoring='f1_micro').mean())"
      ],
      "metadata": {
        "id": "5eddCaZ_VZck"
      },
      "execution_count": null,
      "outputs": []
    },
    {
      "cell_type": "markdown",
      "source": [
        "# Validacion cruzada dataset glass aplicando arbol, knn y svc lineal C=1 "
      ],
      "metadata": {
        "id": "qIm1fSajPXdm"
      }
    },
    {
      "cell_type": "code",
      "source": [
        "data = arff.loadarff('/content/Introduccion_Mineria_Datos/PRACTICAS/misDatasets/glass.arff')\n",
        "df = pd.DataFrame(data[0])\n",
        "df.to_csv('glass.csv', index=None)\n",
        "glass = pd.read_csv('glass.csv')\n",
        "glass_X = glass.drop('Type', axis=1)\n",
        "glass_Y = glass['Type']\n",
        "basesDatos.append('glass')\n",
        "arbol_score.append(cross_val_score(arbol, glass_X, glass_Y, cv=10, scoring='accuracy').mean())\n",
        "knn_score.append(cross_val_score(knn, glass_X, glass_Y, cv=10, scoring='accuracy').mean())\n",
        "svc_score.append(cross_val_score(svc, glass_X, glass_Y, cv=10, scoring='accuracy').mean())"
      ],
      "metadata": {
        "colab": {
          "base_uri": "https://localhost:8080/"
        },
        "id": "QQfbZB5BPhVw",
        "outputId": "8fee2a10-4577-45c8-bee0-d8cfcd04a953"
      },
      "execution_count": null,
      "outputs": [
        {
          "output_type": "stream",
          "name": "stderr",
          "text": [
            "/usr/local/lib/python3.8/dist-packages/sklearn/model_selection/_split.py:676: UserWarning: The least populated class in y has only 9 members, which is less than n_splits=10.\n",
            "  warnings.warn(\n",
            "/usr/local/lib/python3.8/dist-packages/sklearn/model_selection/_split.py:676: UserWarning: The least populated class in y has only 9 members, which is less than n_splits=10.\n",
            "  warnings.warn(\n",
            "/usr/local/lib/python3.8/dist-packages/sklearn/model_selection/_split.py:676: UserWarning: The least populated class in y has only 9 members, which is less than n_splits=10.\n",
            "  warnings.warn(\n"
          ]
        }
      ]
    },
    {
      "cell_type": "code",
      "source": [
        "arbol_f1Micro.append(cross_val_score(arbol, glass_X, glass_Y, cv=10, scoring='f1_micro').mean())\n",
        "knn_f1Micro.append(cross_val_score(knn, glass_X, glass_Y, cv=10, scoring='f1_micro').mean())\n",
        "svc_f1Micro.append(cross_val_score(svc, glass_X, glass_Y, cv=10, scoring='f1_micro').mean())"
      ],
      "metadata": {
        "colab": {
          "base_uri": "https://localhost:8080/"
        },
        "id": "nk4s-8gWVsBh",
        "outputId": "08b7a510-8545-4655-cdd5-62ec0ab6f105"
      },
      "execution_count": null,
      "outputs": [
        {
          "output_type": "stream",
          "name": "stderr",
          "text": [
            "/usr/local/lib/python3.8/dist-packages/sklearn/model_selection/_split.py:676: UserWarning: The least populated class in y has only 9 members, which is less than n_splits=10.\n",
            "  warnings.warn(\n",
            "/usr/local/lib/python3.8/dist-packages/sklearn/model_selection/_split.py:676: UserWarning: The least populated class in y has only 9 members, which is less than n_splits=10.\n",
            "  warnings.warn(\n",
            "/usr/local/lib/python3.8/dist-packages/sklearn/model_selection/_split.py:676: UserWarning: The least populated class in y has only 9 members, which is less than n_splits=10.\n",
            "  warnings.warn(\n"
          ]
        }
      ]
    },
    {
      "cell_type": "markdown",
      "source": [
        "# Mostramos los resultados de validacion cruzada aplicando exactitud y f1 micro"
      ],
      "metadata": {
        "id": "4SG6UErfI9H5"
      }
    },
    {
      "cell_type": "code",
      "source": [
        "print(\"Resultados obtenidos\")\n",
        "print('Bases Datos: ', basesDatos)\n",
        "print('Arbol score: ', arbol_score)\n",
        "print('Arbol f1Micro: ', arbol_f1Micro)\n",
        "print('knn score: ', knn_score)\n",
        "print('knn f1Micro: ', knn_f1Micro)\n",
        "print('SVC score: ', svc_score)\n",
        "print('SVC f1Micro: ', svc_f1Micro)"
      ],
      "metadata": {
        "colab": {
          "base_uri": "https://localhost:8080/"
        },
        "id": "GeX1eYbKHZaS",
        "outputId": "122aa4af-3780-4ae3-941c-dffaa66e90e0"
      },
      "execution_count": null,
      "outputs": [
        {
          "output_type": "stream",
          "name": "stdout",
          "text": [
            "Resultados obtenidos\n",
            "Bases Datos:  ['iris', 'wine', 'diabetes', 'breast cancer', 'titanic', 'abalone', 'ildp', 'digits', 'segment_challenge', 'glass']\n",
            "Arbol score:  [0.96, 0.8594771241830067, 0.7057245386192755, 0.9156954887218044, 0.7901373283395754, 0.1984819799662662, 0.6590243902439024, 0.821374922408442, 0.9613333333333334, 0.6913419913419914]\n",
            "Arbol f1Micro:  [0.96, 0.8539215686274509, 0.7056732740943267, 0.9104010025062657, 0.7912484394506867, 0.19560026619852447, 0.683658536585366, 0.8369180633147113, 0.9633333333333333, 0.691991341991342]\n",
            "knn score:  [0.9666666666666666, 0.7209150326797384, 0.6562713602187287, 0.9261904761904761, 0.4927340823970038, 0.2154687733067135, 0.6368902439024391, 0.9766325263811299, 0.9386666666666666, 0.6725108225108226]\n",
            "knn f1Micro:  [0.9666666666666666, 0.7209150326797384, 0.6562713602187287, 0.9261904761904761, 0.4927340823970038, 0.2154687733067135, 0.6368902439024391, 0.9766325263811299, 0.9386666666666666, 0.6725108225108226]\n",
            "SVC score:  [0.9733333333333334, 0.9555555555555555, 0.773462064251538, 0.9543233082706767, 0.7867564534231201, 0.24420272394524573, 0.7185975609756097, 0.9604872749844816, 0.9640000000000001, 0.6541125541125541]\n",
            "SVC f1Micro:  [0.9733333333333334, 0.9555555555555555, 0.773462064251538, 0.9543233082706767, 0.7867564534231201, 0.24420272394524573, 0.7185975609756097, 0.9604872749844816, 0.9640000000000001, 0.6541125541125541]\n"
          ]
        }
      ]
    },
    {
      "cell_type": "code",
      "source": [
        "import matplotlib.pyplot as plt\n",
        "plt.barh(basesDatos, arbol_score, label=\"Arbol de decisión\", color=\"r\")\n",
        "plt.barh(basesDatos, knn_score, label=\"KNN(K=3)\", color=\"g\")\n",
        "plt.barh(basesDatos, svc_score, label=\"SVC_LINEAR\", color=\"b\")\n",
        "plt.ylabel(\"Datasets\")\n",
        "plt.xlabel(\"Exactitud\")\n",
        "plt.title(\"Validacion cruzada con exactitud\")\n",
        "plt.legend()\n",
        "plt.show()"
      ],
      "metadata": {
        "colab": {
          "base_uri": "https://localhost:8080/",
          "height": 295
        },
        "id": "1SxGlzEIN99l",
        "outputId": "c0b939c0-4559-416b-9989-f662b3dbd362"
      },
      "execution_count": null,
      "outputs": [
        {
          "output_type": "display_data",
          "data": {
            "text/plain": [
              "<Figure size 432x288 with 1 Axes>"
            ],
            "image/png": "[encoded data removed]"
          },
          "metadata": {
            "needs_background": "light"
          }
        }
      ]
    },
    {
      "cell_type": "code",
      "source": [
        "import matplotlib.pyplot as plt\n",
        "plt.barh(basesDatos, arbol_f1Micro, label=\"Arbol de decisión\", color=\"r\")\n",
        "plt.barh(basesDatos, knn_f1Micro, label=\"KNN(K=3)\", color=\"g\")\n",
        "plt.barh(basesDatos, svc_f1Micro, label=\"SVC_LINEAR\", color=\"b\")\n",
        "plt.ylabel(\"Datasets\")\n",
        "plt.xlabel(\"f1_Micro\")\n",
        "plt.title(\"Validacion cruzada + f1Micro\")\n",
        "plt.legend()\n",
        "plt.show()"
      ],
      "metadata": {
        "colab": {
          "base_uri": "https://localhost:8080/",
          "height": 296
        },
        "id": "PaP223E6hGfQ",
        "outputId": "61f7fde5-09a6-4be2-a07c-57dd6f9a39f3"
      },
      "execution_count": null,
      "outputs": [
        {
          "output_type": "display_data",
          "data": {
            "text/plain": [
              "<Figure size 432x288 with 1 Axes>"
            ],
            "image/png": "[encoded data removed]"
          },
          "metadata": {
            "needs_background": "light"
          }
        }
      ]
    },
    {
      "cell_type": "markdown",
      "source": [
        "# Test de Wilcoxon, Iman-Davenport"
      ],
      "metadata": {
        "id": "_lgWBbs4k_14"
      }
    },
    {
      "cell_type": "code",
      "source": [
        "from sklearn.model_selection import train_test_split\n",
        "from scipy.stats import wilcoxon\n",
        "from scipy.stats import mannwhitneyu\n",
        "from scipy.stats import friedmanchisquare\n",
        "iman_davenport_arbol_knn = []; iman_davenport_arbol_svc = []; iman_davenport_knn_svc = []\n",
        "\n",
        "wilcoxon = wilcoxon(arbol_score, knn_score)\n",
        "iman_davenport_arbol_knn = mannwhitneyu(arbol_score, knn_score).pvalue\n",
        "iman_davenport_arbol_svc = mannwhitneyu(arbol_score, svc_score).pvalue\n",
        "iman_davenport_knn_svc = mannwhitneyu(knn_score, svc_score).pvalue \n",
        "friedman = friedmanchisquare(arbol_score, knn_score, svc_score)\n",
        "\n",
        "# Mostramos los resultados\n",
        "print('Wilcoxon: ', wilcoxon.pvalue)\n",
        "print('Friedman: ', friedman.pvalue)\n",
        "\n",
        "plt.barh(\"iman_davenport_arbol_knn\",iman_davenport_arbol_knn, label=\"arbol_knn\",color='r')\n",
        "plt.barh(\"iman_davenport_arbol_svc\",iman_davenport_arbol_svc, label=\"arbol_svc\",color='g')\n",
        "plt.barh(\"iman_davenport_knn_svc\",iman_davenport_knn_svc, label=\"knn_svc\",color='b')\n",
        "plt.xlabel(\"P-value\")\n",
        "plt.ylabel(\"Comparacion\")\n",
        "plt.title(\"Test de Iman-Davenport\")\n",
        "plt.show()"
      ],
      "metadata": {
        "colab": {
          "base_uri": "https://localhost:8080/",
          "height": 330
        },
        "id": "WngkucgilWFU",
        "outputId": "8b8affa0-172e-44ec-ab6e-cd48d53c8f36"
      },
      "execution_count": null,
      "outputs": [
        {
          "output_type": "stream",
          "name": "stdout",
          "text": [
            "Wilcoxon:  0.232421875\n",
            "Friedman:  0.06081006262521769\n"
          ]
        },
        {
          "output_type": "display_data",
          "data": {
            "text/plain": [
              "<Figure size 432x288 with 1 Axes>"
            ],
            "image/png": "[encoded data removed]"
          },
          "metadata": {
            "needs_background": "light"
          }
        }
      ]
    },
    {
      "cell_type": "markdown",
      "source": [
        "# Procedimiento de Holm"
      ],
      "metadata": {
        "id": "fFugA_qIrXEy"
      }
    },
    {
      "cell_type": "code",
      "source": [
        "from statsmodels.stats.multicomp import (pairwise_tukeyhsd, MultiComparison)\n",
        "import numpy as np\n",
        "\n",
        "stat, p = friedmanchisquare(arbol_score, knn_score, svc_score)\n",
        "if (stat/10) < 0.5:\n",
        "    mejorClasificador = knn\n",
        "elif (stat/10) > 0.5:\n",
        "    mejorClasificador = svc\n",
        "else:\n",
        "    mejorClasificador = arbol\n",
        "print(mejorClasificador)\n",
        "# Comparamos \n",
        "mc = MultiComparison(np.array([svc_score, knn_score]).flatten(), np.array([['svc']*10, ['knn']*10]).flatten())\n",
        "result = mc.tukeyhsd()\n",
        "print(result)\n",
        "mc = MultiComparison(np.array([svc_score, arbol_score]).flatten(), np.array([['svc']*10, ['arbol']*10]).flatten())\n",
        "result = mc.tukeyhsd()\n",
        "print(result)"
      ],
      "metadata": {
        "colab": {
          "base_uri": "https://localhost:8080/"
        },
        "id": "eciBNhxRma0v",
        "outputId": "5612822c-d3d5-460b-b771-e18c6ba63d4e"
      },
      "execution_count": null,
      "outputs": [
        {
          "output_type": "stream",
          "name": "stdout",
          "text": [
            "SVC(C=1, kernel='linear')\n",
            "Multiple Comparison of Means - Tukey HSD, FWER=0.05\n",
            "===================================================\n",
            "group1 group2 meandiff p-adj   lower  upper  reject\n",
            "---------------------------------------------------\n",
            "   knn    svc   0.0782 0.4689 -0.1438 0.3002  False\n",
            "---------------------------------------------------\n",
            "Multiple Comparison of Means - Tukey HSD, FWER=0.05\n",
            "===================================================\n",
            "group1 group2 meandiff p-adj   lower  upper  reject\n",
            "---------------------------------------------------\n",
            " arbol    svc   0.0422 0.6932 -0.1703 0.2547  False\n",
            "---------------------------------------------------\n"
          ]
        }
      ]
    },
    {
      "cell_type": "markdown",
      "source": [
        "# Bonferroni-Dunn"
      ],
      "metadata": {
        "id": "hbBikMsgZ5yv"
      }
    },
    {
      "cell_type": "code",
      "source": [
        "!pip install scikit_posthocs"
      ],
      "metadata": {
        "colab": {
          "base_uri": "https://localhost:8080/"
        },
        "id": "4ZSKHdRt52L_",
        "outputId": "e46ec57b-cc9e-438d-db14-1c6ea675a356"
      },
      "execution_count": null,
      "outputs": [
        {
          "output_type": "stream",
          "name": "stdout",
          "text": [
            "Looking in indexes: https://pypi.org/simple, https://us-python.pkg.dev/colab-wheels/public/simple/\n",
            "Collecting scikit_posthocs\n",
            "  Downloading scikit_posthocs-0.7.0-py3-none-any.whl (38 kB)\n",
            "Requirement already satisfied: statsmodels in /usr/local/lib/python3.8/dist-packages (from scikit_posthocs) (0.12.2)\n",
            "Requirement already satisfied: matplotlib in /usr/local/lib/python3.8/dist-packages (from scikit_posthocs) (3.2.2)\n",
            "Requirement already satisfied: numpy in /usr/local/lib/python3.8/dist-packages (from scikit_posthocs) (1.21.6)\n",
            "Requirement already satisfied: pandas>=0.20.0 in /usr/local/lib/python3.8/dist-packages (from scikit_posthocs) (1.3.5)\n",
            "Requirement already satisfied: scipy in /usr/local/lib/python3.8/dist-packages (from scikit_posthocs) (1.7.3)\n",
            "Requirement already satisfied: seaborn in /usr/local/lib/python3.8/dist-packages (from scikit_posthocs) (0.11.2)\n",
            "Requirement already satisfied: pytz>=2017.3 in /usr/local/lib/python3.8/dist-packages (from pandas>=0.20.0->scikit_posthocs) (2022.6)\n",
            "Requirement already satisfied: python-dateutil>=2.7.3 in /usr/local/lib/python3.8/dist-packages (from pandas>=0.20.0->scikit_posthocs) (2.8.2)\n",
            "Requirement already satisfied: six>=1.5 in /usr/local/lib/python3.8/dist-packages (from python-dateutil>=2.7.3->pandas>=0.20.0->scikit_posthocs) (1.15.0)\n",
            "Requirement already satisfied: kiwisolver>=1.0.1 in /usr/local/lib/python3.8/dist-packages (from matplotlib->scikit_posthocs) (1.4.4)\n",
            "Requirement already satisfied: cycler>=0.10 in /usr/local/lib/python3.8/dist-packages (from matplotlib->scikit_posthocs) (0.11.0)\n",
            "Requirement already satisfied: pyparsing!=2.0.4,!=2.1.2,!=2.1.6,>=2.0.1 in /usr/local/lib/python3.8/dist-packages (from matplotlib->scikit_posthocs) (3.0.9)\n",
            "Requirement already satisfied: patsy>=0.5 in /usr/local/lib/python3.8/dist-packages (from statsmodels->scikit_posthocs) (0.5.3)\n",
            "Installing collected packages: scikit-posthocs\n",
            "Successfully installed scikit-posthocs-0.7.0\n"
          ]
        }
      ]
    },
    {
      "cell_type": "code",
      "source": [
        "import scikit_posthocs as sp\n",
        "df = pd.DataFrame({'arbol': arbol_score, 'knn': knn_score, 'svc': svc_score})\n",
        "print('Comparacion arbol vs knn: \\n', sp.posthoc_dunn([arbol_score, knn_score], p_adjust='bonferroni'))\n",
        "print('Comparacion arbol vs svc: \\n', sp.posthoc_dunn([arbol_score, svc_score], p_adjust='bonferroni'))\n",
        "print('Comparacion knn vs svc: \\n', sp.posthoc_dunn([knn_score, svc_score], p_adjust='bonferroni'))"
      ],
      "metadata": {
        "colab": {
          "base_uri": "https://localhost:8080/"
        },
        "id": "ymAfvq9r6TxQ",
        "outputId": "b552df7a-2078-40ac-d284-6f84740561f8"
      },
      "execution_count": null,
      "outputs": [
        {
          "output_type": "stream",
          "name": "stdout",
          "text": [
            "Comparacion arbol vs knn: \n",
            "           1         2\n",
            "1  1.000000  0.762369\n",
            "2  0.762369  1.000000\n",
            "Comparacion arbol vs svc: \n",
            "           1         2\n",
            "1  1.000000  0.405679\n",
            "2  0.405679  1.000000\n",
            "Comparacion knn vs svc: \n",
            "           1         2\n",
            "1  1.000000  0.364346\n",
            "2  0.364346  1.000000\n"
          ]
        }
      ]
    },
    {
      "cell_type": "markdown",
      "source": [
        "# Grid Search"
      ],
      "metadata": {
        "id": "AhDShO1NatVm"
      }
    },
    {
      "cell_type": "code",
      "source": [
        "from sklearn.model_selection import GridSearchCV\n",
        "from sklearn.model_selection import train_test_split\n"
      ],
      "metadata": {
        "id": "I1h32La3a7Gs"
      },
      "execution_count": null,
      "outputs": []
    },
    {
      "cell_type": "code",
      "source": [
        "basesDatos = []\n",
        "iris = pd.read_csv('/content/Introduccion_Mineria_Datos/PRACTICAS/misDatasets/iris.data',\n",
        "                   header=None,names=[\"sepal length\",\"sepal width\",\"petal length\",\"petal width\",\"class\"])\n",
        "iris_features= [\"sepal length\",\"sepal width\",\"petal length\",\"petal width\"]\n",
        "X=iris[iris_features]\n",
        "y=iris[\"class\"]\n",
        "basesDatos.append('iris')\n",
        "param_grid = {'max_depth': np.arange(3, 10)}\n",
        "GRID_score = []; arbol_score = []\n",
        "X_train, X_test, y_train, y_test = train_test_split(X, y, test_size=0.2, random_state=0)\n",
        "\n",
        "arbol.fit(X_train, y_train)\n",
        "arbol_score.append(arbol.score(X_test, y_test))\n",
        "\n",
        "arbol_GRID = GridSearchCV(arbol, param_grid, cv=5)\n",
        "arbol_GRID.fit(X_train, y_train)\n",
        "GRID_score.append(arbol_GRID.score(X_test, y_test))"
      ],
      "metadata": {
        "id": "0MNvxXLoAt4t"
      },
      "execution_count": null,
      "outputs": []
    },
    {
      "cell_type": "code",
      "source": [
        "\n",
        "wine = pd.read_csv('/content/Introduccion_Mineria_Datos/PRACTICAS/misDatasets/wine.data', header = None,names = ['class', 'Alcohol', 'Malic_acid', 'Ash', 'Alcalinity_of_ash', 'Magnesium', 'Total_phenols','Flavanoids', 'Nonflavanoid_phenols', 'Proanthocyanins', 'Color_intensity', 'Hue', 'OD280/OD315','Proline'])\n",
        "wine_features = ['Alcohol', 'Malic_acid', 'Ash', 'Alcalinity_of_ash', 'Magnesium', 'Total_phenols', 'Flavanoids', 'Nonflavanoid_phenols', 'Proanthocyanins', 'Color_intensity', 'Hue', 'OD280/OD315', 'Proline']\n",
        "X=wine[wine_features]\n",
        "y=wine['class']\n",
        "basesDatos.append('wine')\n",
        "X_train, X_test, y_train, y_test = train_test_split(X, y, test_size=0.2, random_state=0)\n",
        "\n",
        "arbol.fit(X_train, y_train)\n",
        "arbol_score.append(arbol.score(X_test, y_test))\n",
        "arbol_GRID.fit(X_train, y_train)\n",
        "GRID_score.append(arbol_GRID.score(X_test, y_test))"
      ],
      "metadata": {
        "id": "9XXap_YlcFld"
      },
      "execution_count": null,
      "outputs": []
    },
    {
      "cell_type": "code",
      "source": [
        "diabetes = pd.read_csv('/content/Introduccion_Mineria_Datos/PRACTICAS/misDatasets/diabetes.csv',header = None,names = ['preg', 'plas','pres','skin','insu','mass','pedi','age','class'])\n",
        "diabetes_features= ['preg', 'plas','pres','skin','insu','mass','pedi','age']\n",
        "X = diabetes[diabetes_features]\n",
        "y = diabetes['class']\n",
        "basesDatos.append('diabetes')\n",
        "X_train, X_test, y_train, y_test = train_test_split(X, y, test_size=0.2, random_state=0)\n",
        "arbol.fit(X_train, y_train)\n",
        "arbol_score.append(arbol.score(X_test, y_test))\n",
        "arbol_GRID.fit(X_train, y_train)\n",
        "GRID_score.append(arbol_GRID.score(X_test, y_test))"
      ],
      "metadata": {
        "id": "QQpBQNaScpYd"
      },
      "execution_count": null,
      "outputs": []
    },
    {
      "cell_type": "code",
      "source": [
        "breast_cancer = datasets.load_breast_cancer()\n",
        "X = breast_cancer.data\n",
        "Y = breast_cancer.target\n",
        "basesDatos.append('breast cancer')\n",
        "X_train, X_test, y_train, y_test = train_test_split(X, Y, test_size=0.2, random_state=0)\n",
        "arbol.fit(X_train, y_train)\n",
        "arbol_score.append(arbol.score(X_test, y_test))\n",
        "arbol_GRID.fit(X_train, y_train)\n",
        "GRID_score.append(arbol_GRID.score(X_test, y_test))"
      ],
      "metadata": {
        "id": "rqw-FyL0c34h"
      },
      "execution_count": null,
      "outputs": []
    },
    {
      "cell_type": "code",
      "source": [
        "titanic = pd.read_csv(\"/content/Introduccion_Mineria_Datos/PRACTICAS/misDatasets/titanic.csv\")\n",
        "X = titanic.drop(['Survived'], axis=1)\n",
        "X = pd.get_dummies(X)\n",
        "X = X.dropna(axis=1)\n",
        "Y = titanic['Survived']\n",
        "basesDatos.append('titanic')\n",
        "X_train, X_test, y_train, y_test = train_test_split(X, Y, test_size=0.2, random_state=0)\n",
        "arbol.fit(X_train, y_train)\n",
        "arbol_score.append(arbol.score(X_test, y_test))\n",
        "arbol_GRID.fit(X_train, y_train)\n",
        "GRID_score.append(arbol_GRID.score(X_test, y_test))"
      ],
      "metadata": {
        "id": "sx1xGSwhdJaq"
      },
      "execution_count": null,
      "outputs": []
    },
    {
      "cell_type": "code",
      "source": [
        "abalone = pd.read_csv('/content/Introduccion_Mineria_Datos/PRACTICAS/misDatasets/abalone.data',header = None,names = ['Sex', 'Length', 'Diameter', 'Height', 'Whole weight', 'Shucked weight', 'Viscera weight', 'Shell weight', 'Rings'])\n",
        "abalone['Sex'] = abalone['Sex'].map({'M': 0, 'F': 1, 'I': 2})\n",
        "abalone_features = ['Sex', 'Length', 'Diameter', 'Height', 'Whole weight', 'Shucked weight', 'Viscera weight', 'Shell weight']\n",
        "X = abalone[abalone_features]\n",
        "Y = abalone['Rings']\n",
        "basesDatos.append('abalone')\n",
        "X_train, X_test, y_train, y_test = train_test_split(X, Y, test_size=0.2, random_state=0)\n",
        "arbol.fit(X_train, y_train)\n",
        "arbol_score.append(arbol.score(X_test, y_test))\n",
        "arbol_GRID.fit(X_train, y_train)\n",
        "GRID_score.append(arbol_GRID.score(X_test, y_test))"
      ],
      "metadata": {
        "colab": {
          "base_uri": "https://localhost:8080/"
        },
        "id": "s6EPl_0Sdqcv",
        "outputId": "2eeffd22-7e2e-4caf-e057-272796270d9e"
      },
      "execution_count": null,
      "outputs": [
        {
          "output_type": "stream",
          "name": "stderr",
          "text": [
            "/usr/local/lib/python3.8/dist-packages/sklearn/model_selection/_split.py:676: UserWarning: The least populated class in y has only 1 members, which is less than n_splits=5.\n",
            "  warnings.warn(\n"
          ]
        }
      ]
    },
    {
      "cell_type": "code",
      "source": [
        "data_train = pd.read_csv('/content/Introduccion_Mineria_Datos/PRACTICAS/misDatasets/train_ildp.csv',header=None)\n",
        "data_test = pd.read_csv('/content/Introduccion_Mineria_Datos/PRACTICAS/misDatasets/train_ildp.csv', header=None)\n",
        "X = data_train.iloc[:,:-1]\n",
        "y = data_train.iloc[:,-1]\n",
        "basesDatos.append('ildp')\n",
        "X_train, X_test, y_train, y_test = train_test_split(X, y, test_size=0.2, random_state=0)\n",
        "arbol.fit(X_train, y_train)\n",
        "arbol_score.append(arbol.score(X_test, y_test))\n",
        "arbol_GRID.fit(X_train, y_train)\n",
        "GRID_score.append(arbol_GRID.score(X_test, y_test))"
      ],
      "metadata": {
        "id": "hYA9N5OAd1Nn"
      },
      "execution_count": null,
      "outputs": []
    },
    {
      "cell_type": "code",
      "source": [
        "digits = datasets.load_digits()\n",
        "X = digits.data\n",
        "Y = digits.target\n",
        "basesDatos.append('digits')\n",
        "X_train, X_test, y_train, y_test = train_test_split(X, Y, test_size=0.2, random_state=0)\n",
        "arbol.fit(X_train, y_train)\n",
        "arbol_score.append(arbol.score(X_test, y_test))\n",
        "arbol_GRID.fit(X_train, y_train)\n",
        "GRID_score.append(arbol_GRID.score(X_test, y_test))"
      ],
      "metadata": {
        "id": "Sa6Fj2njeCj-"
      },
      "execution_count": null,
      "outputs": []
    },
    {
      "cell_type": "code",
      "source": [
        "data = arff.loadarff('/content/Introduccion_Mineria_Datos/PRACTICAS/misDatasets/segment-challenge.arff')\n",
        "df = pd.DataFrame(data[0])\n",
        "df.to_csv('segment-challenge.csv', index=None)\n",
        "segment_challenge = pd.read_csv('segment-challenge.csv')\n",
        "X = segment_challenge.drop('class', axis=1)\n",
        "Y = segment_challenge['class']\n",
        "basesDatos.append('segment_challenge')\n",
        "X_train, X_test, y_train, y_test = train_test_split(X, Y, test_size=0.2, random_state=0)\n",
        "arbol.fit(X_train, y_train)\n",
        "arbol_score.append(arbol.score(X_test, y_test))\n",
        "arbol_GRID.fit(X_train, y_train)\n",
        "GRID_score.append(arbol_GRID.score(X_test, y_test))"
      ],
      "metadata": {
        "id": "Oa-nGIuOeMsf"
      },
      "execution_count": null,
      "outputs": []
    },
    {
      "cell_type": "code",
      "source": [
        "data = arff.loadarff('/content/Introduccion_Mineria_Datos/PRACTICAS/misDatasets/glass.arff')\n",
        "df = pd.DataFrame(data[0])\n",
        "df.to_csv('glass.csv', index=None)\n",
        "glass = pd.read_csv('glass.csv')\n",
        "X = glass.drop('Type', axis=1)\n",
        "Y = glass['Type']\n",
        "basesDatos.append('glass')\n",
        "X_train, X_test, y_train, y_test = train_test_split(X, Y, test_size=0.2, random_state=0)\n",
        "arbol.fit(X_train, y_train)\n",
        "arbol_score.append(arbol.score(X_test, y_test))\n",
        "arbol_GRID.fit(X_train, y_train)\n",
        "GRID_score.append(arbol_GRID.score(X_test, y_test))"
      ],
      "metadata": {
        "id": "rgYlrH7qeZ1Q"
      },
      "execution_count": null,
      "outputs": []
    },
    {
      "cell_type": "code",
      "source": [
        "print('Bases de datos: ', basesDatos)\n",
        "print('Arbol score: ', arbol_score)\n",
        "print('Grid score: ', GRID_score)"
      ],
      "metadata": {
        "colab": {
          "base_uri": "https://localhost:8080/"
        },
        "id": "cX0Qd65HbxO1",
        "outputId": "4db78adb-30c1-498d-c899-61a8995d0d14"
      },
      "execution_count": null,
      "outputs": [
        {
          "output_type": "stream",
          "name": "stdout",
          "text": [
            "Bases de datos:  ['iris', 'wine', 'diabetes', 'breast cancer', 'titanic', 'abalone', 'ildp', 'digits', 'segment_challenge', 'glass']\n",
            "Arbol score:  [1.0, 0.9722222222222222, 0.7467532467532467, 0.9035087719298246, 0.8379888268156425, 0.19736842105263158, 0.6049382716049383, 0.8611111111111112, 0.9366666666666666, 0.7906976744186046]\n",
            "Grid score:  [1.0, 0.9722222222222222, 0.7597402597402597, 0.9122807017543859, 0.8100558659217877, 0.2715311004784689, 0.6790123456790124, 0.8527777777777777, 0.94, 0.7674418604651163]\n"
          ]
        }
      ]
    },
    {
      "cell_type": "code",
      "source": [
        "import matplotlib.pyplot as plt\n",
        "plt.barh(basesDatos, arbol_score, label='Arbol', color='r')\n",
        "plt.barh(basesDatos, GRID_score, label='Grid Search', color='b')\n",
        "plt.xlabel('Score')\n",
        "plt.ylabel('Bases de datos')\n",
        "plt.title('Grid Search')\n",
        "plt.legend()\n",
        "plt.show()"
      ],
      "metadata": {
        "colab": {
          "base_uri": "https://localhost:8080/",
          "height": 295
        },
        "id": "teUfqQoCe4WA",
        "outputId": "46323031-b6ff-422b-cdbd-a1203cf8f1e7"
      },
      "execution_count": null,
      "outputs": [
        {
          "output_type": "display_data",
          "data": {
            "text/plain": [
              "<Figure size 432x288 with 1 Axes>"
            ],
            "image/png": "[encoded data removed]"
          },
          "metadata": {
            "needs_background": "light"
          }
        }
      ]
    },
    {
      "cell_type": "markdown",
      "source": [
        "# Parte 2"
      ],
      "metadata": {
        "id": "xywf8xCcAq2r"
      }
    },
    {
      "cell_type": "markdown",
      "source": [
        "# Aplicamos el metodo RIPPER y lo comparamos con el árbol de decisión"
      ],
      "metadata": {
        "id": "mkuryO-Xt9UV"
      }
    },
    {
      "cell_type": "code",
      "source": [
        "import pandas as pd\n",
        "from sklearn import datasets\n",
        "# Leemos el dataset iris\n",
        "basesDatos = []\n",
        "iris = pd.read_csv('/content/Introduccion_Mineria_Datos/PRACTICAS/misDatasets/iris.data',\n",
        "                   header=None,names=[\"sepal length\",\"sepal width\",\"petal length\",\"petal width\",\"class\"])\n",
        "\n",
        "basesDatos.append('iris')\n",
        "# Leemos el dataset breast cancer\n",
        "breast_cancer = datasets.load_breast_cancer()\n",
        "basesDatos.append('breast cancer')\n",
        "# Leemos el dataset titanic\n",
        "titanic = pd.read_csv(\"/content/Introduccion_Mineria_Datos/PRACTICAS/misDatasets/titanic.csv\")\n",
        "basesDatos.append('titanic')"
      ],
      "metadata": {
        "id": "cIV6YVXyuD0r"
      },
      "execution_count": null,
      "outputs": []
    },
    {
      "cell_type": "code",
      "source": [
        "!pip install wittgenstein"
      ],
      "metadata": {
        "colab": {
          "base_uri": "https://localhost:8080/"
        },
        "id": "Dbai8aTaycQ-",
        "outputId": "c51dcb28-5665-47a2-b0ad-2e3cee9ac630"
      },
      "execution_count": null,
      "outputs": [
        {
          "output_type": "stream",
          "name": "stdout",
          "text": [
            "Looking in indexes: https://pypi.org/simple, https://us-python.pkg.dev/colab-wheels/public/simple/\n",
            "Collecting wittgenstein\n",
            "  Downloading wittgenstein-0.3.2-py3-none-any.whl (124 kB)\n",
            "\u001b[K     |████████████████████████████████| 124 kB 5.3 MB/s \n",
            "\u001b[?25hRequirement already satisfied: numpy in /usr/local/lib/python3.8/dist-packages (from wittgenstein) (1.21.6)\n",
            "Requirement already satisfied: pandas in /usr/local/lib/python3.8/dist-packages (from wittgenstein) (1.3.5)\n",
            "Requirement already satisfied: python-dateutil>=2.7.3 in /usr/local/lib/python3.8/dist-packages (from pandas->wittgenstein) (2.8.2)\n",
            "Requirement already satisfied: pytz>=2017.3 in /usr/local/lib/python3.8/dist-packages (from pandas->wittgenstein) (2022.6)\n",
            "Requirement already satisfied: six>=1.5 in /usr/local/lib/python3.8/dist-packages (from python-dateutil>=2.7.3->pandas->wittgenstein) (1.15.0)\n",
            "Installing collected packages: wittgenstein\n",
            "Successfully installed wittgenstein-0.3.2\n"
          ]
        }
      ]
    },
    {
      "cell_type": "code",
      "source": [
        "basesDatos = []\n",
        "from sklearn.tree import DecisionTreeClassifier\n",
        "from sklearn.model_selection import train_test_split\n",
        "import wittgenstein as lw\n",
        "import pandas as pd\n",
        "import matplotlib.pyplot as plt\n",
        "ripper_clf = lw.RIPPER()\n",
        "ripper_score = []\n",
        "arbol = DecisionTreeClassifier()\n",
        "arbol_score = []\n",
        "# Entrenamos el dataset iris\n",
        "basesDatos.append('Iris')\n",
        "train, test = train_test_split(iris, test_size=.2)\n",
        "ripper_clf.fit(iris, class_feat=\"class\", pos_class='Iris-setosa')\n",
        "X_test = test.drop('class', axis=1)\n",
        "y_test = test['class']\n",
        "ripper_score.append(ripper_clf.score(X_test, y_test))\n",
        "arbol.fit(train.drop('class', axis=1), train['class'])\n",
        "arbol_score.append(arbol.score(test.drop('class', axis=1), test['class']))\n",
        "# Entrenamos el dataset breast cancer\n",
        "basesDatos.append('breast Cancer')\n",
        "X = pd.DataFrame(breast_cancer.data, columns=breast_cancer.feature_names)\n",
        "y = pd.Series(breast_cancer.target)\n",
        "X['class'] = y\n",
        "train, test = train_test_split(X, test_size=.2)\n",
        "ripper_clf.fit(X, class_feat=\"class\", pos_class=0)\n",
        "X_test = test.drop('class', axis=1)\n",
        "y_test = test['class']\n",
        "ripper_score.append(ripper_clf.score(X_test, y_test))\n",
        "arbol.fit(train.drop('class', axis=1), train['class'])\n",
        "arbol_score.append(arbol.score(test.drop('class', axis=1), test['class']))\n",
        "# Entrenamos el dataset titanic\n",
        "basesDatos.append('titanic')\n",
        "df2 = titanic.copy()\n",
        "df2.drop(['Name', 'Ticket', 'Cabin', 'Sex','Age','Embarked'], axis=1)\n",
        "train, test = train_test_split(df2, test_size=.2)\n",
        "ripper_clf.fit(df2, class_feat=\"Survived\", pos_class=1)\n",
        "# Score\n",
        "X_test = test.drop('Survived', axis=1)\n",
        "y_test = test['Survived']\n",
        "ripper_score.append(ripper_clf.score(X_test, y_test))\n",
        "X_train = train.drop('Survived', axis=1)\n",
        "X_train = X_train.drop(['Name', 'Ticket', 'Cabin', 'Sex','Age','Embarked'], axis=1)\n",
        "y_train = train['Survived']\n",
        "arbol.fit(X_train, y_train)\n",
        "X_test = test.drop('Survived', axis=1)\n",
        "X_test = X_test.drop(['Name', 'Ticket', 'Cabin', 'Sex','Age','Embarked'], axis=1)\n",
        "y_test = test['Survived']\n",
        "arbol_score.append(arbol.score(X_test, y_test))\n",
        "\n",
        "# Mostramos los resultados obtenidos\n",
        "print('RIPPER Score: ', ripper_score)\n",
        "print('Arbol Score: ', arbol_score)\n",
        "\n",
        "plt.plot(basesDatos, ripper_score, label='Ripper')\n",
        "plt.plot(basesDatos, arbol_score, label='Arbol')\n",
        "plt.xlabel(\"Conjunto de datos\")\n",
        "plt.ylabel(\"Exactitud\")\n",
        "plt.title('ArbolvsRipper')\n",
        "plt.legend()\n",
        "plt.show()"
      ],
      "metadata": {
        "colab": {
          "base_uri": "https://localhost:8080/",
          "height": 330
        },
        "id": "qUITWOrMvBZ6",
        "outputId": "df2d4713-23e6-4866-b844-b1bc9b9974b7"
      },
      "execution_count": null,
      "outputs": [
        {
          "output_type": "stream",
          "name": "stdout",
          "text": [
            "RIPPER Score:  [1.0, 0.956140350877193, 0.7932960893854749]\n",
            "Arbol Score:  [0.9666666666666667, 0.9298245614035088, 0.6368715083798883]\n"
          ]
        },
        {
          "output_type": "display_data",
          "data": {
            "text/plain": [
              "<Figure size 432x288 with 1 Axes>"
            ],
            "image/png": "[encoded data removed]"
          },
          "metadata": {
            "needs_background": "light"
          }
        }
      ]
    },
    {
      "cell_type": "markdown",
      "source": [
        "# Arbol vs SVC Lineal C=1"
      ],
      "metadata": {
        "id": "Ilgk9iRm5qtU"
      }
    },
    {
      "cell_type": "code",
      "source": [
        "from sklearn.model_selection import train_test_split\n",
        "import pandas as pd\n",
        "basesDatos = []; arbol_score = []; svc_score = []\n",
        "iris = pd.read_csv('/content/Introduccion_Mineria_Datos/PRACTICAS/misDatasets/iris.data',\n",
        "                   header=None,names=[\"sepal length\",\"sepal width\",\"petal length\",\"petal width\",\"class\"])\n",
        "iris_features= [\"sepal length\",\"sepal width\",\"petal length\",\"petal width\"]\n",
        "X=iris[iris_features]\n",
        "y=iris[\"class\"]\n",
        "basesDatos.append('Iris')\n",
        "X_train, X_test, y_train, y_test = train_test_split(X, y, test_size=0.2, random_state=0)\n",
        "arbol.fit(X_train, y_train)\n",
        "arbol_score.append(arbol.score(X_test, y_test))\n",
        "svc_score.append(svc.fit(X_train,y_train).score(X_test, y_test))"
      ],
      "metadata": {
        "id": "PljB0yf4566N"
      },
      "execution_count": null,
      "outputs": []
    },
    {
      "cell_type": "code",
      "source": [
        "wine = pd.read_csv('/content/Introduccion_Mineria_Datos/PRACTICAS/misDatasets/wine.data', header = None,names = ['class', 'Alcohol', 'Malic_acid', 'Ash', 'Alcalinity_of_ash', 'Magnesium', 'Total_phenols','Flavanoids', 'Nonflavanoid_phenols', 'Proanthocyanins', 'Color_intensity', 'Hue', 'OD280/OD315','Proline'])\n",
        "wine_features = ['Alcohol', 'Malic_acid', 'Ash', 'Alcalinity_of_ash', 'Magnesium', 'Total_phenols', 'Flavanoids', 'Nonflavanoid_phenols', 'Proanthocyanins', 'Color_intensity', 'Hue', 'OD280/OD315', 'Proline']\n",
        "X=wine[wine_features]\n",
        "y=wine['class']\n",
        "basesDatos.append('wine')\n",
        "X_train, X_test, y_train, y_test = train_test_split(X, y, test_size=0.2, random_state=0)\n",
        "\n",
        "arbol_score.append(arbol.fit(X_train, y_train).score(X_test, y_test))\n",
        "svc_score.append(svc.fit(X_train,y_train).score(X_test, y_test))"
      ],
      "metadata": {
        "id": "8fPAzojE63YM"
      },
      "execution_count": null,
      "outputs": []
    },
    {
      "cell_type": "code",
      "source": [
        "diabetes = pd.read_csv('/content/Introduccion_Mineria_Datos/PRACTICAS/misDatasets/diabetes.csv',header = None,names = ['preg', 'plas','pres','skin','insu','mass','pedi','age','class'])\n",
        "diabetes_features= ['preg', 'plas','pres','skin','insu','mass','pedi','age']\n",
        "X = diabetes[diabetes_features]\n",
        "y = diabetes['class']\n",
        "basesDatos.append('diabetes')\n",
        "X_train, X_test, y_train, y_test = train_test_split(X, y, test_size=0.2, random_state=0)\n",
        "arbol_score.append(arbol.fit(X_train, y_train).score(X_test, y_test))\n",
        "svc_score.append(svc.fit(X_train,y_train).score(X_test, y_test))"
      ],
      "metadata": {
        "id": "ZnlOOpq07E0E"
      },
      "execution_count": null,
      "outputs": []
    },
    {
      "cell_type": "code",
      "source": [
        "breast_cancer = datasets.load_breast_cancer()\n",
        "X = breast_cancer.data\n",
        "Y = breast_cancer.target\n",
        "basesDatos.append('breast cancer')\n",
        "X_train, X_test, y_train, y_test = train_test_split(X, Y, test_size=0.2, random_state=0)\n",
        "arbol_score.append(arbol.fit(X_train, y_train).score(X_test, y_test))\n",
        "svc_score.append(svc.fit(X_train,y_train).score(X_test, y_test))"
      ],
      "metadata": {
        "id": "YYgMbNMZ7SKr"
      },
      "execution_count": null,
      "outputs": []
    },
    {
      "cell_type": "code",
      "source": [
        "titanic = pd.read_csv(\"/content/Introduccion_Mineria_Datos/PRACTICAS/misDatasets/titanic.csv\")\n",
        "X = titanic.drop(['Survived'], axis=1)\n",
        "X = pd.get_dummies(X)\n",
        "X = X.dropna(axis=1)\n",
        "Y = titanic['Survived']\n",
        "basesDatos.append('titanic')\n",
        "X_train, X_test, y_train, y_test = train_test_split(X, Y, test_size=0.2, random_state=0)\n",
        "arbol_score.append(arbol.fit(X_train, y_train).score(X_test, y_test))\n",
        "svc_score.append(svc.fit(X_train,y_train).score(X_test, y_test))"
      ],
      "metadata": {
        "id": "-p6U-d0q7ojE"
      },
      "execution_count": null,
      "outputs": []
    },
    {
      "cell_type": "code",
      "source": [
        "abalone = pd.read_csv('/content/Introduccion_Mineria_Datos/PRACTICAS/misDatasets/abalone.data',header = None,names = ['Sex', 'Length', 'Diameter', 'Height', 'Whole weight', 'Shucked weight', 'Viscera weight', 'Shell weight', 'Rings'])\n",
        "abalone['Sex'] = abalone['Sex'].map({'M': 0, 'F': 1, 'I': 2})\n",
        "abalone_features = ['Sex', 'Length', 'Diameter', 'Height', 'Whole weight', 'Shucked weight', 'Viscera weight', 'Shell weight']\n",
        "X = abalone[abalone_features]\n",
        "Y = abalone['Rings']\n",
        "basesDatos.append('abalone')\n",
        "X_train, X_test, y_train, y_test = train_test_split(X, Y, test_size=0.2, random_state=0)\n",
        "arbol_score.append(arbol.fit(X_train, y_train).score(X_test, y_test))\n",
        "svc_score.append(svc.fit(X_train,y_train).score(X_test, y_test))"
      ],
      "metadata": {
        "id": "KAOqbmdn72P0"
      },
      "execution_count": null,
      "outputs": []
    },
    {
      "cell_type": "code",
      "source": [
        "data_train = pd.read_csv('/content/Introduccion_Mineria_Datos/PRACTICAS/misDatasets/train_ildp.csv',header=None)\n",
        "data_test = pd.read_csv('/content/Introduccion_Mineria_Datos/PRACTICAS/misDatasets/train_ildp.csv', header=None)\n",
        "X = data_train.iloc[:,:-1]\n",
        "y = data_train.iloc[:,-1]\n",
        "basesDatos.append('ildp')\n",
        "X_train, X_test, y_train, y_test = train_test_split(X, y, test_size=0.2, random_state=0)\n",
        "arbol_score.append(arbol.fit(X_train, y_train).score(X_test, y_test))\n",
        "svc_score.append(svc.fit(X_train,y_train).score(X_test, y_test))"
      ],
      "metadata": {
        "id": "jvF_VMZ19F1M"
      },
      "execution_count": null,
      "outputs": []
    },
    {
      "cell_type": "code",
      "source": [
        "digits = datasets.load_digits()\n",
        "X = digits.data\n",
        "Y = digits.target\n",
        "basesDatos.append('digits')\n",
        "X_train, X_test, y_train, y_test = train_test_split(X, Y, test_size=0.2, random_state=0)\n",
        "arbol_score.append(arbol.fit(X_train, y_train).score(X_test, y_test))\n",
        "svc_score.append(svc.fit(X_train,y_train).score(X_test, y_test))"
      ],
      "metadata": {
        "id": "8RMxw_-29PHE"
      },
      "execution_count": null,
      "outputs": []
    },
    {
      "cell_type": "code",
      "source": [
        "data = arff.loadarff('/content/Introduccion_Mineria_Datos/PRACTICAS/misDatasets/segment-challenge.arff')\n",
        "df = pd.DataFrame(data[0])\n",
        "df.to_csv('segment-challenge.csv', index=None)\n",
        "segment_challenge = pd.read_csv('segment-challenge.csv')\n",
        "X = segment_challenge.drop('class', axis=1)\n",
        "Y = segment_challenge['class']\n",
        "basesDatos.append('segment_challenge')\n",
        "X_train, X_test, y_train, y_test = train_test_split(X, Y, test_size=0.2, random_state=0)\n",
        "arbol_score.append(arbol.fit(X_train, y_train).score(X_test, y_test))\n",
        "svc_score.append(svc.fit(X_train,y_train).score(X_test, y_test))"
      ],
      "metadata": {
        "id": "_B8yfHLEbdSw"
      },
      "execution_count": null,
      "outputs": []
    },
    {
      "cell_type": "code",
      "source": [
        "data = arff.loadarff('/content/Introduccion_Mineria_Datos/PRACTICAS/misDatasets/glass.arff')\n",
        "df = pd.DataFrame(data[0])\n",
        "df.to_csv('glass.csv', index=None)\n",
        "glass = pd.read_csv('glass.csv')\n",
        "X = glass.drop('Type', axis=1)\n",
        "Y = glass['Type']\n",
        "basesDatos.append('glass')\n",
        "X_train, X_test, y_train, y_test = train_test_split(X, Y, test_size=0.2, random_state=0)\n",
        "arbol_score.append(arbol.fit(X_train, y_train).score(X_test, y_test))\n",
        "svc_score.append(svc.fit(X_train,y_train).score(X_test, y_test))"
      ],
      "metadata": {
        "id": "AmE41S6tb9Rr"
      },
      "execution_count": null,
      "outputs": []
    },
    {
      "cell_type": "code",
      "source": [
        "import matplotlib.pyplot as plt\n",
        "\n",
        "plt.barh(basesDatos, arbol_score, label='Arbol', color='r')\n",
        "plt.barh(basesDatos, svc_score, label='SVC Lineal', color='b')\n",
        "plt.xlabel('Score')\n",
        "plt.ylabel('Bases de datos')\n",
        "plt.title('Parte2 ejercicio 3')\n",
        "plt.legend()\n",
        "plt.show()"
      ],
      "metadata": {
        "colab": {
          "base_uri": "https://localhost:8080/",
          "height": 295
        },
        "id": "l1gFLaYS6cAU",
        "outputId": "aa5297a3-5ca9-4150-85e4-baa9e8164f6e"
      },
      "execution_count": null,
      "outputs": [
        {
          "output_type": "display_data",
          "data": {
            "text/plain": [
              "<Figure size 432x288 with 1 Axes>"
            ],
            "image/png": "[encoded data removed]"
          },
          "metadata": {
            "needs_background": "light"
          }
        }
      ]
    },
    {
      "cell_type": "markdown",
      "source": [
        "# GridSearchCV de SVC"
      ],
      "metadata": {
        "id": "C2L8hRXrBlk9"
      }
    },
    {
      "cell_type": "code",
      "source": [
        "from sklearn.model_selection import GridSearchCV\n",
        "from sklearn.model_selection import train_test_split\n",
        "import pandas as pd\n",
        "import numpy as np\n",
        "from sklearn.model_selection import cross_val_score\n",
        "from sklearn import svm\n",
        "import matplotlib.pyplot as plt\n",
        "from sklearn import datasets\n",
        "parameters = [ \n",
        "    {\"kernel\": [\"rbf\"], \"gamma\": [0.01, 0.1, 1.0], \"C\": [1, 10, 100, 1000]}, \n",
        "    {\"kernel\": [\"linear\"], \"C\": [1, 10, 100, 1000]}, ]\n",
        "\n",
        "svc_bestScore=[]; basesDatos = []\n",
        "clf = GridSearchCV(svm.SVC(), parameters, cv=5)\n",
        "# svc_score = [1.0, 0.9722222222222222, 0.8116883116883117, 0.956140350877193, 0.8491620111731844, 0.25239234449760767, 0.7037037037037037, 0.9777777777777777]\n"
      ],
      "metadata": {
        "id": "ZllzkgmKBrNV"
      },
      "execution_count": null,
      "outputs": []
    },
    {
      "cell_type": "code",
      "source": [
        "iris = pd.read_csv('/content/Introduccion_Mineria_Datos/PRACTICAS/misDatasets/iris.data',\n",
        "                   header=None,names=[\"sepal length\",\"sepal width\",\"petal length\",\"petal width\",\"class\"])\n",
        "iris_features= [\"sepal length\",\"sepal width\",\"petal length\",\"petal width\"]\n",
        "X=iris[iris_features]\n",
        "y=iris[\"class\"]\n",
        "basesDatos.append('Iris')\n",
        "clf.fit(X, y)\n",
        "svc_bestScore.append(clf.best_score_)"
      ],
      "metadata": {
        "id": "_e9nQ2Q0B6CM"
      },
      "execution_count": null,
      "outputs": []
    },
    {
      "cell_type": "code",
      "source": [
        "wine = pd.read_csv('/content/Introduccion_Mineria_Datos/PRACTICAS/misDatasets/wine.data', header = None,names = ['class', 'Alcohol', 'Malic_acid', 'Ash', 'Alcalinity_of_ash', 'Magnesium', 'Total_phenols','Flavanoids', 'Nonflavanoid_phenols', 'Proanthocyanins', 'Color_intensity', 'Hue', 'OD280/OD315','Proline'])\n",
        "wine_features = ['Alcohol', 'Malic_acid', 'Ash', 'Alcalinity_of_ash', 'Magnesium', 'Total_phenols', 'Flavanoids', 'Nonflavanoid_phenols', 'Proanthocyanins', 'Color_intensity', 'Hue', 'OD280/OD315', 'Proline']\n",
        "X=wine[wine_features]\n",
        "y=wine['class']\n",
        "basesDatos.append('wine')\n",
        "clf.fit(X,y)\n",
        "svc_bestScore.append(clf.best_score_)"
      ],
      "metadata": {
        "id": "Y7xapEeoD0M4"
      },
      "execution_count": null,
      "outputs": []
    },
    {
      "cell_type": "code",
      "source": [
        "diabetes = pd.read_csv('/content/Introduccion_Mineria_Datos/PRACTICAS/misDatasets/diabetes.csv',header = None,names = ['preg', 'plas','pres','skin','insu','mass','pedi','age','class'])\n",
        "diabetes_features= ['preg', 'plas','pres','skin','insu','mass','pedi','age']\n",
        "X = diabetes[diabetes_features]\n",
        "y = diabetes['class']\n",
        "basesDatos.append('diabetes')\n",
        "clf.fit(X,y)\n",
        "svc_bestScore.append(clf.best_score_) # 0.7721925133689839"
      ],
      "metadata": {
        "id": "An8otg1mES29"
      },
      "execution_count": null,
      "outputs": []
    },
    {
      "cell_type": "code",
      "source": [
        "from sklearn import datasets\n",
        "breast_cancer = datasets.load_breast_cancer()\n",
        "X = breast_cancer.data\n",
        "y = breast_cancer.target\n",
        "basesDatos.append('breast cancer')\n",
        "clf.fit(X,y)\n",
        "svc_bestScore.append(clf.best_score_) # 0.9631268436578171"
      ],
      "metadata": {
        "id": "Hme99CEGEbfN"
      },
      "execution_count": null,
      "outputs": []
    },
    {
      "cell_type": "code",
      "source": [
        "titanic = pd.read_csv(\"/content/Introduccion_Mineria_Datos/PRACTICAS/misDatasets/titanic.csv\")\n",
        "titanic_X = titanic.drop(['Survived'], axis=1)\n",
        "titanic_X = pd.get_dummies(titanic_X)\n",
        "titanic_X = titanic_X.dropna(axis=1)\n",
        "titanic_y = titanic['Survived']\n",
        "basesDatos.append('titanic')\n",
        "clf.fit(X,y)\n",
        "svc_bestScore.append(clf.best_score_) # 0.9631268436578171"
      ],
      "metadata": {
        "id": "1Ca2S-63UkIV"
      },
      "execution_count": null,
      "outputs": []
    },
    {
      "cell_type": "code",
      "source": [
        "abalone = pd.read_csv('/content/Introduccion_Mineria_Datos/PRACTICAS/misDatasets/abalone.data',header = None,names = ['Sex', 'Length', 'Diameter', 'Height', 'Whole weight', 'Shucked weight', 'Viscera weight', 'Shell weight', 'Rings'])\n",
        "abalone['Sex'] = abalone['Sex'].map({'M': 0, 'F': 1, 'I': 2})\n",
        "abalone_features = ['Sex', 'Length', 'Diameter', 'Height', 'Whole weight', 'Shucked weight', 'Viscera weight', 'Shell weight']\n",
        "abalone_X = abalone[abalone_features]\n",
        "abalone_y = abalone['Rings']\n",
        "basesDatos.append('abalone')\n",
        "clf.fit(X,y)\n",
        "svc_bestScore.append(clf.best_score_) # 0.9631268436578171"
      ],
      "metadata": {
        "id": "HxRXI7qEVbNi"
      },
      "execution_count": null,
      "outputs": []
    },
    {
      "cell_type": "code",
      "source": [
        "data_train = pd.read_csv('/content/Introduccion_Mineria_Datos/PRACTICAS/misDatasets/train_ildp.csv',header=None)\n",
        "data_test = pd.read_csv('/content/Introduccion_Mineria_Datos/PRACTICAS/misDatasets/train_ildp.csv', header=None)\n",
        "X = data_train.iloc[:,:-1]\n",
        "y = data_train.iloc[:,-1]\n",
        "basesDatos.append('ildp')\n",
        "clf.fit(X,y)\n",
        "svc_bestScore.append(clf.best_score_) # 0.7333333333333334"
      ],
      "metadata": {
        "id": "cUBVv3JLWPb-"
      },
      "execution_count": null,
      "outputs": []
    },
    {
      "cell_type": "code",
      "source": [
        "digits = datasets.load_digits()\n",
        "X = digits.data\n",
        "y = digits.target\n",
        "basesDatos.append('digits')\n",
        "clf.fit(X,y)\n",
        "svc_bestScore.append(clf.best_score_) # 0.9476973073351903"
      ],
      "metadata": {
        "id": "TrbISozKW2FW"
      },
      "execution_count": null,
      "outputs": []
    },
    {
      "cell_type": "code",
      "source": [
        "from scipy.io import arff\n",
        "data = arff.loadarff('/content/Introduccion_Mineria_Datos/PRACTICAS/misDatasets/segment-challenge.arff')\n",
        "df = pd.DataFrame(data[0])\n",
        "df.to_csv('segment-challenge.csv', index=None)\n",
        "segment_challenge = pd.read_csv('segment-challenge.csv')\n",
        "X = segment_challenge.drop('class', axis=1)\n",
        "y = segment_challenge['class']\n",
        "basesDatos.append('segment_challenge')\n",
        "clf.fit(X,y)\n",
        "svc_bestScore.append(clf.best_score_) # 0.9606666666666668"
      ],
      "metadata": {
        "id": "yvYH21lUXPKZ"
      },
      "execution_count": null,
      "outputs": []
    },
    {
      "cell_type": "code",
      "source": [
        "data = arff.loadarff('/content/Introduccion_Mineria_Datos/PRACTICAS/misDatasets/glass.arff')\n",
        "df = pd.DataFrame(data[0])\n",
        "df.to_csv('glass.csv', index=None)\n",
        "glass = pd.read_csv('glass.csv')\n",
        "X = glass.drop('Type', axis=1)\n",
        "y = glass['Type']\n",
        "basesDatos.append('glass')\n",
        "clf.fit(X,y)\n",
        "svc_bestScore.append(clf.best_score_)"
      ],
      "metadata": {
        "id": "ZaJ_BK7KZOm4"
      },
      "execution_count": null,
      "outputs": []
    },
    {
      "cell_type": "code",
      "source": [
        "\n",
        "# svc_score= [1.0, 0.9722222222222222, 0.8116883116883117, 0.956140350877193, 0.8491620111731844, 0.25239234449760767, 0.7037037037037037, 0.9777777777777777, 0.9666666666666667, 0.6744186046511628]\n",
        "#svc_bestScore = [0.9800000000000001, 0.961111111111111, 0.7721925133689839, 0.9631268436578171, 0.9631268436578171, 0.9631268436578171, 0.7333333333333334, 0.9476973073351903, 0.9606666666666668, 0.7383167220376523]\n",
        "plt.barh(basesDatos, svc_score, label='SVC_Valores_Fijos', color='r')\n",
        "plt.barh(basesDatos, svc_bestScore, label='SVC_Best_Score', color='b')\n",
        "plt.xlabel(\"Score\")\n",
        "plt.ylabel(\"Bases de datos\")\n",
        "plt.legend()\n",
        "plt.show()\n"
      ],
      "metadata": {
        "colab": {
          "base_uri": "https://localhost:8080/",
          "height": 279
        },
        "id": "5XEBrUk2DMtV",
        "outputId": "0257085a-5ee0-4cac-8157-905ae4c8c827"
      },
      "execution_count": null,
      "outputs": [
        {
          "output_type": "display_data",
          "data": {
            "text/plain": [
              "<Figure size 432x288 with 1 Axes>"
            ],
            "image/png": "[encoded data removed]"
          },
          "metadata": {
            "needs_background": "light"
          }
        }
      ]
    },
    {
      "cell_type": "markdown",
      "source": [
        "# Parte 3"
      ],
      "metadata": {
        "id": "g06lPWus8A9Y"
      }
    },
    {
      "cell_type": "markdown",
      "source": [
        "# Seleccionamos como metodos base un arbol de decision y una maquina de vectores soporte"
      ],
      "metadata": {
        "id": "A7fsjlN_8CtC"
      }
    },
    {
      "cell_type": "code",
      "source": [
        "from sklearn.tree import DecisionTreeClassifier\n",
        "from sklearn.svm import SVC\n",
        "from sklearn.model_selection import cross_val_score\n",
        "import pandas as pd\n",
        "from sklearn import datasets\n",
        "from scipy.io import arff\n",
        "arbol = DecisionTreeClassifier()\n",
        "svc = SVC()"
      ],
      "metadata": {
        "id": "fykQwsIC8u6O"
      },
      "execution_count": null,
      "outputs": []
    },
    {
      "cell_type": "markdown",
      "source": [
        "# Aplicamos el metodo base a cada conjunto"
      ],
      "metadata": {
        "id": "l_93vrRW85YD"
      }
    },
    {
      "cell_type": "code",
      "source": [
        "# Inicializamos las variables\n",
        "basesDatos = []\n",
        "arbol_score = []\n",
        "svc_score = []"
      ],
      "metadata": {
        "id": "RYXQsgKs9dEO"
      },
      "execution_count": null,
      "outputs": []
    },
    {
      "cell_type": "code",
      "source": [
        "# Entrenamiento del dataset iris\n",
        "iris = pd.read_csv('/content/Introduccion_Mineria_Datos/PRACTICAS/misDatasets/iris.data',\n",
        "                   header=None,names=[\"sepal length\",\"sepal width\",\"petal length\",\"petal width\",\"class\"])\n",
        "iris_features= [\"sepal length\",\"sepal width\",\"petal length\",\"petal width\"]\n",
        "iris_X=iris[iris_features]\n",
        "iris_y=iris[\"class\"]\n",
        "basesDatos.append('iris')\n",
        "arbol_score.append(cross_val_score(arbol, iris_X, iris_y, cv=10, scoring='accuracy').mean() )\n",
        "svc_score.append(cross_val_score(svc, iris_X, iris_y, cv=10, scoring='accuracy').mean() )"
      ],
      "metadata": {
        "id": "QLPrr-QG8-cr"
      },
      "execution_count": null,
      "outputs": []
    },
    {
      "cell_type": "code",
      "source": [
        "# Entrenamiento del dataset wine\n",
        "wine = pd.read_csv('/content/Introduccion_Mineria_Datos/PRACTICAS/misDatasets/wine.data', header = None,names = ['class', 'Alcohol', 'Malic_acid', 'Ash', 'Alcalinity_of_ash', 'Magnesium', 'Total_phenols','Flavanoids', 'Nonflavanoid_phenols', 'Proanthocyanins', 'Color_intensity', 'Hue', 'OD280/OD315','Proline'])\n",
        "wine_features = ['Alcohol', 'Malic_acid', 'Ash', 'Alcalinity_of_ash', 'Magnesium', 'Total_phenols', 'Flavanoids', 'Nonflavanoid_phenols', 'Proanthocyanins', 'Color_intensity', 'Hue', 'OD280/OD315', 'Proline']\n",
        "wine_X=wine[wine_features]\n",
        "wine_y=wine['class']\n",
        "basesDatos.append('wine')\n",
        "arbol_score.append(cross_val_score(arbol, wine_X, wine_y, cv=10, scoring='accuracy').mean())\n",
        "svc_score.append(cross_val_score(svc, wine_X, wine_y, cv=10, scoring='accuracy').mean())"
      ],
      "metadata": {
        "id": "G3bSB1LQ90oo"
      },
      "execution_count": null,
      "outputs": []
    },
    {
      "cell_type": "code",
      "source": [
        "# Entrenamiento del dataset diabetes\n",
        "diabetes = pd.read_csv('/content/Introduccion_Mineria_Datos/PRACTICAS/misDatasets/diabetes.csv',header = None,names = ['preg', 'plas','pres','skin','insu','mass','pedi','age','class'])\n",
        "diabetes_features= ['preg', 'plas','pres','skin','insu','mass','pedi','age']\n",
        "diabetes_X = diabetes[diabetes_features]\n",
        "diabetes_y = diabetes['class']\n",
        "basesDatos.append('diabetes')\n",
        "arbol_score.append(cross_val_score(arbol, diabetes_X, diabetes_y, cv=10, scoring='accuracy').mean())\n",
        "#svc_score.append(cross_val_score(svc, diabetes_X, diabetes_y, cv=10, scoring='accuracy').mean())\n",
        "svc_score.append(0.773462064251538)"
      ],
      "metadata": {
        "id": "Augqst559_YZ"
      },
      "execution_count": null,
      "outputs": []
    },
    {
      "cell_type": "code",
      "source": [
        "# Entrenamiento del dataset breast cancer\n",
        "breast_cancer = datasets.load_breast_cancer()\n",
        "breast_cancer_X = breast_cancer.data\n",
        "breast_cancer_Y = breast_cancer.target\n",
        "basesDatos.append('breast cancer')\n",
        "arbol_score.append(cross_val_score(arbol, breast_cancer_X, breast_cancer_Y, cv=10, scoring='accuracy').mean())\n",
        "svc_score.append(0.9543233082706767)"
      ],
      "metadata": {
        "id": "gDI_iRtE-HP3"
      },
      "execution_count": null,
      "outputs": []
    },
    {
      "cell_type": "code",
      "source": [
        "# Entrenamiento del dataset titanic\n",
        "titanic = pd.read_csv(\"/content/Introduccion_Mineria_Datos/PRACTICAS/misDatasets/titanic.csv\")\n",
        "titanic_X = titanic.drop(['Survived'], axis=1)\n",
        "titanic_X = pd.get_dummies(titanic_X)\n",
        "titanic_X = titanic_X.dropna(axis=1)\n",
        "titanic_y = titanic['Survived']\n",
        "basesDatos.append('titanic')\n",
        "arbol_score.append(cross_val_score(arbol, titanic_X, titanic_y, cv=10, scoring='accuracy').mean())\n",
        "#svc_score.append(cross_val_scores(svc,titanic_X, titanic_y, cv=10, scoring='accuracy').mean())\n",
        "svc_score.append(0.7867564534231201)"
      ],
      "metadata": {
        "id": "-xEwrf8X-aBK"
      },
      "execution_count": null,
      "outputs": []
    },
    {
      "cell_type": "code",
      "source": [
        "# Entrenamiento del dataset abalone\n",
        "abalone = pd.read_csv('/content/Introduccion_Mineria_Datos/PRACTICAS/misDatasets/abalone.data',header = None,names = ['Sex', 'Length', 'Diameter', 'Height', 'Whole weight', 'Shucked weight', 'Viscera weight', 'Shell weight', 'Rings'])\n",
        "abalone['Sex'] = abalone['Sex'].map({'M': 0, 'F': 1, 'I': 2})\n",
        "abalone_features = ['Sex', 'Length', 'Diameter', 'Height', 'Whole weight', 'Shucked weight', 'Viscera weight', 'Shell weight']\n",
        "abalone_X = abalone[abalone_features]\n",
        "abalone_Y = abalone['Rings']\n",
        "basesDatos.append('abalone')\n",
        "arbol_score.append(cross_val_score(arbol, abalone_X, abalone_Y, cv=10, scoring='accuracy').mean())\n",
        "# svc_score.append(cross_val_score(svc, abalone_X, abalone_Y, cv=10, scoring='accuracy').mean())\n",
        "svc_score.append(0.24420272394524573)"
      ],
      "metadata": {
        "colab": {
          "base_uri": "https://localhost:8080/"
        },
        "id": "v1p071X1-jYo",
        "outputId": "437d424f-1e94-4984-ef76-3ea9e26d54f9"
      },
      "execution_count": null,
      "outputs": [
        {
          "output_type": "stream",
          "name": "stderr",
          "text": [
            "/usr/local/lib/python3.8/dist-packages/sklearn/model_selection/_split.py:676: UserWarning: The least populated class in y has only 1 members, which is less than n_splits=10.\n",
            "  warnings.warn(\n"
          ]
        }
      ]
    },
    {
      "cell_type": "code",
      "source": [
        "# Entrenamiento del dataset ildp\n",
        "data_train = pd.read_csv('/content/Introduccion_Mineria_Datos/PRACTICAS/misDatasets/train_ildp.csv',header=None)\n",
        "data_test = pd.read_csv('/content/Introduccion_Mineria_Datos/PRACTICAS/misDatasets/train_ildp.csv', header=None)\n",
        "ildp_X = data_train.iloc[:,:-1]\n",
        "ildp_y = data_train.iloc[:,-1]\n",
        "basesDatos.append('ildp')\n",
        "arbol_score.append(cross_val_score(arbol, ildp_X, ildp_y, cv=10).mean())\n",
        "svc_score.append(cross_val_score(svc, ildp_X, ildp_y, cv=10).mean())"
      ],
      "metadata": {
        "id": "6QTquIu6-sch"
      },
      "execution_count": null,
      "outputs": []
    },
    {
      "cell_type": "code",
      "source": [
        "# Entrenamiento del dataset digits\n",
        "digits = datasets.load_digits()\n",
        "digits_X = digits.data\n",
        "digits_Y = digits.target\n",
        "basesDatos.append('digits')\n",
        "arbol_score.append(cross_val_score(arbol, digits_X, digits_Y, cv=10, scoring='accuracy').mean())\n",
        "svc_score.append(cross_val_score(svc, digits_X, digits_Y, cv=10, scoring='accuracy').mean())"
      ],
      "metadata": {
        "id": "-_A3Ad9_-0y0"
      },
      "execution_count": null,
      "outputs": []
    },
    {
      "cell_type": "code",
      "source": [
        "# Entrenamiento del dataset segment challenge\n",
        "data = arff.loadarff('/content/Introduccion_Mineria_Datos/PRACTICAS/misDatasets/segment-challenge.arff')\n",
        "df = pd.DataFrame(data[0])\n",
        "df.to_csv('segment-challenge.csv', index=None)\n",
        "segment_challenge = pd.read_csv('segment-challenge.csv')\n",
        "segment_challenge_X = segment_challenge.drop('class', axis=1)\n",
        "segment_challenge_Y = segment_challenge['class']\n",
        "basesDatos.append('segment_challenge')\n",
        "arbol_score.append(cross_val_score(arbol, segment_challenge_X, segment_challenge_Y, cv=10, scoring='accuracy').mean())\n",
        "svc_score.append(cross_val_score(svc, segment_challenge_X, segment_challenge_Y, cv=10, scoring='accuracy').mean())"
      ],
      "metadata": {
        "id": "441p6ioN_APZ"
      },
      "execution_count": null,
      "outputs": []
    },
    {
      "cell_type": "code",
      "source": [
        "# Entrenamiento del dataset glass\n",
        "data = arff.loadarff('/content/Introduccion_Mineria_Datos/PRACTICAS/misDatasets/glass.arff')\n",
        "df = pd.DataFrame(data[0])\n",
        "df.to_csv('glass.csv', index=None)\n",
        "glass = pd.read_csv('glass.csv')\n",
        "glass_X = glass.drop('Type', axis=1)\n",
        "glass_Y = glass['Type']\n",
        "basesDatos.append('glass')\n",
        "arbol_score.append(cross_val_score(arbol, glass_X, glass_Y, cv=10, scoring='accuracy').mean())\n",
        "svc_score.append(cross_val_score(svc, glass_X, glass_Y, cv=10, scoring='accuracy').mean())"
      ],
      "metadata": {
        "colab": {
          "base_uri": "https://localhost:8080/"
        },
        "id": "dBrcFfja_b4Z",
        "outputId": "e8a226db-90a2-4121-eab5-69175aa69ab9"
      },
      "execution_count": null,
      "outputs": [
        {
          "output_type": "stream",
          "name": "stderr",
          "text": [
            "/usr/local/lib/python3.8/dist-packages/sklearn/model_selection/_split.py:676: UserWarning: The least populated class in y has only 9 members, which is less than n_splits=10.\n",
            "  warnings.warn(\n",
            "/usr/local/lib/python3.8/dist-packages/sklearn/model_selection/_split.py:676: UserWarning: The least populated class in y has only 9 members, which is less than n_splits=10.\n",
            "  warnings.warn(\n"
          ]
        }
      ]
    },
    {
      "cell_type": "code",
      "source": [
        "import matplotlib.pyplot as plt\n",
        "\n",
        "basesDatos = ['iris','wine','diabetes','breast cancer','titanic','abalone','ildp','digits','segment_challenge','glass']\n",
        "arbol_score = [ 0.9533333333333334,0.8594771241830065,0.7201127819548871,0.9192669172932331,0.7946067415730338,0.19106112239395087,0.6736585365853659,0.8335878336436995,0.958,0.6688311688311689]\n",
        "svc_score = [0.9733333333333334,0.9555555555555555,0.773462064251538,0.9543233082706767,0.7867564534231201,0.24420272394524573,0.7185975609756097,0.9604872749844816,0.9640000000000001,0.6541125541125541] \n",
        "# Mostramos los resultados obtenidos\n",
        "print('Dataset: Precision Arbol; Precision SVC')\n",
        "for i in range (0, len(basesDatos)):\n",
        "  print('{}: {}; {}'.format(basesDatos[i], arbol_score[i],svc_score[i]))\n",
        "\n",
        "plt.boxplot([arbol_score, svc_score], labels=[\"Arbol de decision\", \"SVC\"])\n",
        "plt.title('Aplicacion del metodo base')\n",
        "plt.xlabel(\"Metodo\")\n",
        "plt.ylabel(\"Precision\")\n",
        "plt.show()"
      ],
      "metadata": {
        "colab": {
          "base_uri": "https://localhost:8080/",
          "height": 486
        },
        "id": "nY9EKiSE9rbE",
        "outputId": "fa7d0603-5068-4885-a33a-e29aba2e0b2f"
      },
      "execution_count": null,
      "outputs": [
        {
          "output_type": "stream",
          "name": "stdout",
          "text": [
            "Dataset: Precision Arbol; Precision SVC\n",
            "iris: 0.9533333333333334; 0.9733333333333334\n",
            "wine: 0.8594771241830065; 0.9555555555555555\n",
            "diabetes: 0.7201127819548871; 0.773462064251538\n",
            "breast cancer: 0.9192669172932331; 0.9543233082706767\n",
            "titanic: 0.7946067415730338; 0.7867564534231201\n",
            "abalone: 0.19106112239395087; 0.24420272394524573\n",
            "ildp: 0.6736585365853659; 0.7185975609756097\n",
            "digits: 0.8335878336436995; 0.9604872749844816\n",
            "segment_challenge: 0.958; 0.9640000000000001\n",
            "glass: 0.6688311688311689; 0.6541125541125541\n"
          ]
        },
        {
          "output_type": "display_data",
          "data": {
            "text/plain": [
              "<Figure size 432x288 with 1 Axes>"
            ],
            "image/png": "[encoded data removed]"
          },
          "metadata": {
            "needs_background": "light"
          }
        }
      ]
    },
    {
      "cell_type": "markdown",
      "source": [
        "# Combinacion de clasificadores bagging"
      ],
      "metadata": {
        "id": "ZM9slijyBVNA"
      }
    },
    {
      "cell_type": "code",
      "source": [
        "from sklearn.ensemble import BaggingClassifier\n",
        "from sklearn import datasets\n",
        "from sklearn.tree import DecisionTreeClassifier\n",
        "from sklearn.svm import SVC\n",
        "from sklearn.model_selection import cross_val_score\n",
        "from scipy.io import arff\n",
        "arbol = BaggingClassifier(DecisionTreeClassifier(),n_estimators=5,max_samples=0.5, max_features=0.5,n_jobs=-1)\n",
        "svc = BaggingClassifier(SVC(),n_estimators=5, max_samples=0.5, max_features=0.5,n_jobs=-1)"
      ],
      "metadata": {
        "id": "i6Jg2J-fBk1l"
      },
      "execution_count": null,
      "outputs": []
    },
    {
      "cell_type": "code",
      "source": [
        "# Inicializamos las variables\n",
        "bagging_arbol = []\n",
        "bagging_svc = []\n",
        "# Entrenamiento del dataset iris\n",
        "iris = pd.read_csv('/content/Introduccion_Mineria_Datos/PRACTICAS/misDatasets/iris.data',\n",
        "                   header=None,names=[\"sepal length\",\"sepal width\",\"petal length\",\"petal width\",\"class\"])\n",
        "iris_features= [\"sepal length\",\"sepal width\",\"petal length\",\"petal width\"]\n",
        "X=iris[iris_features]\n",
        "y=iris[\"class\"]\n",
        "bagging_arbol.append(cross_val_score(arbol, X, y, cv=10).mean()) # bagging_arbol.append(0.9666666666666666)\n",
        "bagging_svc.append(cross_val_score(svc, X, y, cv=10).mean()) # bagging_svc.append(0.9466666666666667)\n",
        "# Entrenamiento del dataset wine\n",
        "wine = pd.read_csv('/content/Introduccion_Mineria_Datos/PRACTICAS/misDatasets/wine.data', header = None,names = ['class', 'Alcohol', 'Malic_acid', 'Ash', 'Alcalinity_of_ash', 'Magnesium', 'Total_phenols','Flavanoids', 'Nonflavanoid_phenols', 'Proanthocyanins', 'Color_intensity', 'Hue', 'OD280/OD315','Proline'])\n",
        "wine_features = ['Alcohol', 'Malic_acid', 'Ash', 'Alcalinity_of_ash', 'Magnesium', 'Total_phenols', 'Flavanoids', 'Nonflavanoid_phenols', 'Proanthocyanins', 'Color_intensity', 'Hue', 'OD280/OD315', 'Proline']\n",
        "wine_X=wine[wine_features]\n",
        "wine_y=wine['class']\n",
        "bagging_arbol.append(cross_val_score(arbol, wine_X, wine_y, cv=10, scoring='accuracy').mean()) # bagging_arbol.append(0.9326797385620914)\n",
        "bagging_svc.append(cross_val_score(svc, wine_X, wine_y, cv=10, scoring='accuracy').mean()) # bagging_svc.append(0.6356209150326798)\n",
        "# Entrenamiento del dataset diabetes\n",
        "diabetes = pd.read_csv('/content/Introduccion_Mineria_Datos/PRACTICAS/misDatasets/diabetes.csv',header = None,names = ['preg', 'plas','pres','skin','insu','mass','pedi','age','class'])\n",
        "diabetes_features= ['preg', 'plas','pres','skin','insu','mass','pedi','age']\n",
        "diabetes_X = diabetes[diabetes_features]\n",
        "diabetes_y = diabetes['class']\n",
        "bagging_arbol.append(cross_val_score(arbol, diabetes_X, diabetes_y, cv=10, scoring='accuracy').mean()) # bagging.append(0.7082365003417634)\n",
        "bagging_svc.append(cross_val_score(svc, diabetes_X, diabetes_y, cv=10, scoring='accuracy').mean()) # 0.726537935748462\n",
        "# Entrenamiento del dataset breast cancer\n",
        "breast_cancer = datasets.load_breast_cancer()\n",
        "breast_cancer_X = breast_cancer.data\n",
        "breast_cancer_Y = breast_cancer.target\n",
        "bagging_arbol.append(cross_val_score(arbol, breast_cancer_X, breast_cancer_Y, cv=10, scoring='accuracy').mean()) # 0.9420426065162907\n",
        "bagging_svc.append(cross_val_score(svc, breast_cancer_X, breast_cancer_Y, cv=10, scoring='accuracy').mean()) # 0.9068609022556393\n",
        "# Entrenamiento del dataset titanic\n",
        "titanic = pd.read_csv(\"/content/Introduccion_Mineria_Datos/PRACTICAS/misDatasets/titanic.csv\")\n",
        "titanic_X = titanic.drop(['Survived'], axis=1)\n",
        "titanic_X = pd.get_dummies(titanic_X)\n",
        "titanic_X = titanic_X.dropna(axis=1)\n",
        "titanic_y = titanic['Survived']\n",
        "bagging_arbol.append(cross_val_score(arbol, titanic_X, titanic_y, cv=10, scoring='accuracy').mean()) # 0.7957178526841449\n",
        "bagging_svc.append(cross_val_score(svc,titanic_X, titanic_y, cv=10, scoring='accuracy').mean()) # 0.6801997503121098\n",
        "# Entrenamiento del dataset abalone\n",
        "abalone = pd.read_csv('/content/Introduccion_Mineria_Datos/PRACTICAS/misDatasets/abalone.data',header = None,names = ['Sex', 'Length', 'Diameter', 'Height', 'Whole weight', 'Shucked weight', 'Viscera weight', 'Shell weight', 'Rings'])\n",
        "abalone['Sex'] = abalone['Sex'].map({'M': 0, 'F': 1, 'I': 2})\n",
        "abalone_features = ['Sex', 'Length', 'Diameter', 'Height', 'Whole weight', 'Shucked weight', 'Viscera weight', 'Shell weight']\n",
        "abalone_X = abalone[abalone_features]\n",
        "abalone_Y = abalone['Rings']\n",
        "bagging_arbol.append(cross_val_score(arbol, abalone_X, abalone_Y, cv=10, scoring='accuracy').mean()) # 0.20996236503620072\n",
        "bagging_svc.append(cross_val_score(svc, abalone_X, abalone_Y, cv=10, scoring='accuracy').mean()) # 0.16112927839546545\n",
        "# Entrenamiento del dataset ildp\n",
        "data_train = pd.read_csv('/content/Introduccion_Mineria_Datos/PRACTICAS/misDatasets/train_ildp.csv',header=None)\n",
        "data_test = pd.read_csv('/content/Introduccion_Mineria_Datos/PRACTICAS/misDatasets/train_ildp.csv', header=None)\n",
        "ildp_X = data_train.iloc[:,:-1]\n",
        "ildp_y = data_train.iloc[:,-1]\n",
        "bagging_arbol.append(cross_val_score(arbol, ildp_X, ildp_y, cv=10).mean()) # 0.6985365853658536\n",
        "bagging_svc.append(cross_val_score(svc, ildp_X, ildp_y, cv=10).mean()) # 0.7161585365853658\n",
        "# Entrenamiento del dataset digits\n",
        "digits = datasets.load_digits()\n",
        "digits_X = digits.data\n",
        "digits_Y = digits.target\n",
        "bagging_arbol.append(cross_val_score(arbol, digits_X, digits_Y, cv=10, scoring='accuracy').mean())\n",
        "bagging_svc.append(cross_val_score(svc, digits_X, digits_Y, cv=10, scoring='accuracy').mean())\n",
        "# Entrenamiento del dataset segment challenge\n",
        "data = arff.loadarff('/content/Introduccion_Mineria_Datos/PRACTICAS/misDatasets/segment-challenge.arff')\n",
        "df = pd.DataFrame(data[0])\n",
        "df.to_csv('segment-challenge.csv', index=None)\n",
        "segment_challenge = pd.read_csv('segment-challenge.csv')\n",
        "segment_challenge_X = segment_challenge.drop('class', axis=1)\n",
        "segment_challenge_Y = segment_challenge['class']\n",
        "bagging_arbol.append(cross_val_score(arbol, segment_challenge_X, segment_challenge_Y, cv=10, scoring='accuracy').mean())\n",
        "bagging_svc.append(cross_val_score(svc, segment_challenge_X, segment_challenge_Y, cv=10, scoring='accuracy').mean())\n",
        "# Entrenamiento del dataset glass\n",
        "data = arff.loadarff('/content/Introduccion_Mineria_Datos/PRACTICAS/misDatasets/glass.arff')\n",
        "df = pd.DataFrame(data[0])\n",
        "df.to_csv('glass.csv', index=None)\n",
        "glass = pd.read_csv('glass.csv')\n",
        "glass_X = glass.drop('Type', axis=1)\n",
        "glass_Y = glass['Type']\n",
        "\n",
        "bagging_arbol.append(cross_val_score(arbol, glass_X, glass_Y, cv=10, scoring='accuracy').mean())\n",
        "bagging_svc.append(cross_val_score(svc, glass_X, glass_Y, cv=10, scoring='accuracy').mean())"
      ],
      "metadata": {
        "colab": {
          "base_uri": "https://localhost:8080/"
        },
        "id": "ozeZg9GmBp79",
        "outputId": "7d09ddb2-3d04-4917-d61e-7faed8aa0b16"
      },
      "execution_count": null,
      "outputs": [
        {
          "output_type": "stream",
          "name": "stderr",
          "text": [
            "/usr/local/lib/python3.8/dist-packages/sklearn/model_selection/_split.py:676: UserWarning: The least populated class in y has only 1 members, which is less than n_splits=10.\n",
            "  warnings.warn(\n",
            "/usr/local/lib/python3.8/dist-packages/sklearn/model_selection/_split.py:676: UserWarning: The least populated class in y has only 1 members, which is less than n_splits=10.\n",
            "  warnings.warn(\n",
            "/usr/local/lib/python3.8/dist-packages/sklearn/model_selection/_split.py:676: UserWarning: The least populated class in y has only 9 members, which is less than n_splits=10.\n",
            "  warnings.warn(\n",
            "/usr/local/lib/python3.8/dist-packages/sklearn/model_selection/_split.py:676: UserWarning: The least populated class in y has only 9 members, which is less than n_splits=10.\n",
            "  warnings.warn(\n"
          ]
        }
      ]
    },
    {
      "cell_type": "code",
      "source": [
        "# Mostramos los resultados obtenidos\n",
        "print('Dataset: Exactitud Arbol; Exactitud SVC')\n",
        "for i in range (0, len(basesDatos)):\n",
        "  print('{}: {}; {}'.format(basesDatos[i], bagging_arbol[i],bagging_svc[i]))\n",
        "\n",
        "plt.boxplot([bagging_arbol, bagging_svc], labels=[\"Arbol de decision\", \"SVC\"])\n",
        "plt.title('Metodo bagging')\n",
        "plt.xlabel(\"Metodo\")\n",
        "plt.ylabel(\"Precision\")\n",
        "plt.show()"
      ],
      "metadata": {
        "colab": {
          "base_uri": "https://localhost:8080/",
          "height": 486
        },
        "outputId": "c88e1631-288d-4dc9-fd54-3bdfd9245f68",
        "id": "VoLMfwV0Bp8G"
      },
      "execution_count": null,
      "outputs": [
        {
          "output_type": "stream",
          "name": "stdout",
          "text": [
            "Dataset: Exactitud Arbol; Exactitud SVC\n",
            "iris: 0.9199999999999999; 0.9333333333333333\n",
            "wine: 0.9045751633986928; 0.6754901960784314\n",
            "diabetes: 0.716097060833903; 0.6978298017771702\n",
            "breast cancer: 0.9473057644110275; 0.9086152882205514\n",
            "titanic: 0.7856304619225967; 0.6397877652933832\n",
            "abalone: 0.2018232304108866; 0.1484274781132032\n",
            "ildp: 0.7183536585365854; 0.7185975609756097\n",
            "digits: 0.8669801365611421; 0.9449006828057106\n",
            "segment_challenge: 0.942; 0.7846666666666666\n",
            "glass: 0.6448051948051948; 0.3608225108225108\n"
          ]
        },
        {
          "output_type": "display_data",
          "data": {
            "text/plain": [
              "<Figure size 432x288 with 1 Axes>"
            ],
            "image/png": "[encoded data removed]"
          },
          "metadata": {
            "needs_background": "light"
          }
        }
      ]
    },
    {
      "cell_type": "markdown",
      "source": [
        " # Algoritmos boosting"
      ],
      "metadata": {
        "id": "NTtZvQjujl9x"
      }
    },
    {
      "cell_type": "code",
      "source": [
        "from sklearn import datasets\n",
        "from sklearn.model_selection import cross_val_score\n",
        "from sklearn.ensemble import AdaBoostClassifier\n",
        "from sklearn.ensemble import GradientBoostingClassifier\n",
        "adabost =AdaBoostClassifier(); adabost_accuracy = []\n",
        "gradientbost = GradientBoostingClassifier(); gradient_accuracy = []\n",
        "# Dataset iris\n",
        "iris = pd.read_csv('/content/Introduccion_Mineria_Datos/PRACTICAS/misDatasets/iris.data',\n",
        "                   header=None,names=[\"sepal length\",\"sepal width\",\"petal length\",\"petal width\",\"class\"])\n",
        "iris_features= [\"sepal length\",\"sepal width\",\"petal length\",\"petal width\"]\n",
        "X=iris[iris_features]\n",
        "y=iris[\"class\"]\n",
        "adabost_accuracy.append(cross_val_score(adabost, X, y, cv=10, scoring='accuracy').mean())\n",
        "gradient_accuracy.append(cross_val_score(gradientbost, X, y, cv=10, scoring='accuracy').mean())\n",
        "# Entrenamiento del dataset wine\n",
        "wine = pd.read_csv('/content/Introduccion_Mineria_Datos/PRACTICAS/misDatasets/wine.data', header = None,names = ['class', 'Alcohol', 'Malic_acid', 'Ash', 'Alcalinity_of_ash', 'Magnesium', 'Total_phenols','Flavanoids', 'Nonflavanoid_phenols', 'Proanthocyanins', 'Color_intensity', 'Hue', 'OD280/OD315','Proline'])\n",
        "wine_features = ['Alcohol', 'Malic_acid', 'Ash', 'Alcalinity_of_ash', 'Magnesium', 'Total_phenols', 'Flavanoids', 'Nonflavanoid_phenols', 'Proanthocyanins', 'Color_intensity', 'Hue', 'OD280/OD315', 'Proline']\n",
        "X=wine[wine_features]\n",
        "y=wine['class']\n",
        "adabost_accuracy.append(cross_val_score(adabost, X, y, cv=10, scoring='accuracy').mean())\n",
        "gradient_accuracy.append(cross_val_score(gradientbost, X, y, cv=10, scoring='accuracy').mean())\n",
        "# Entrenamiento del dataset diabetes\n",
        "diabetes = pd.read_csv('/content/Introduccion_Mineria_Datos/PRACTICAS/misDatasets/diabetes.csv',header = None,names = ['preg', 'plas','pres','skin','insu','mass','pedi','age','class'])\n",
        "diabetes_features= ['preg', 'plas','pres','skin','insu','mass','pedi','age']\n",
        "X = diabetes[diabetes_features]\n",
        "y = diabetes['class']\n",
        "adabost_accuracy.append(cross_val_score(adabost, X, y, cv=10, scoring='accuracy').mean())\n",
        "gradient_accuracy.append(cross_val_score(gradientbost, X, y, cv=10, scoring='accuracy').mean())\n",
        "# Entrenamiento del dataset breast cancer\n",
        "breast_cancer = datasets.load_breast_cancer()\n",
        "X = breast_cancer.data\n",
        "y = breast_cancer.target\n",
        "adabost_accuracy.append(cross_val_score(adabost, X, y, cv=10, scoring='accuracy').mean())\n",
        "gradient_accuracy.append(cross_val_score(gradientbost, X, y, cv=10, scoring='accuracy').mean())\n",
        "# Entrenamiento del dataset titanic\n",
        "titanic = pd.read_csv(\"/content/Introduccion_Mineria_Datos/PRACTICAS/misDatasets/titanic.csv\")\n",
        "titanic_X = titanic.drop(['Survived'], axis=1)\n",
        "titanic_X = pd.get_dummies(titanic_X)\n",
        "titanic_X = titanic_X.dropna(axis=1)\n",
        "y = titanic['Survived']\n",
        "adabost_accuracy.append(cross_val_score(adabost, titanic_X, y, cv=10, scoring='accuracy').mean())\n",
        "gradient_accuracy.append(cross_val_score(gradientbost, titanic_X, y, cv=10, scoring='accuracy').mean())\n",
        "# Entrenamiento del dataset abalone\n",
        "abalone = pd.read_csv('/content/Introduccion_Mineria_Datos/PRACTICAS/misDatasets/abalone.data',header = None,names = ['Sex', 'Length', 'Diameter', 'Height', 'Whole weight', 'Shucked weight', 'Viscera weight', 'Shell weight', 'Rings'])\n",
        "abalone['Sex'] = abalone['Sex'].map({'M': 0, 'F': 1, 'I': 2})\n",
        "abalone_features = ['Sex', 'Length', 'Diameter', 'Height', 'Whole weight', 'Shucked weight', 'Viscera weight', 'Shell weight']\n",
        "X = abalone[abalone_features]\n",
        "y = abalone['Rings']\n",
        "adabost_accuracy.append(cross_val_score(adabost, X, y, cv=10, scoring='accuracy').mean())\n",
        "gradient_accuracy.append(cross_val_score(gradientbost, X, y, cv=10, scoring='accuracy').mean())\n",
        "# Entrenamiento del dataset ildp\n",
        "data_train = pd.read_csv('/content/Introduccion_Mineria_Datos/PRACTICAS/misDatasets/train_ildp.csv',header=None)\n",
        "data_test = pd.read_csv('/content/Introduccion_Mineria_Datos/PRACTICAS/misDatasets/train_ildp.csv', header=None)\n",
        "X = data_train.iloc[:,:-1]\n",
        "y = data_train.iloc[:,-1]\n",
        "adabost_accuracy.append(cross_val_score(adabost, X, y, cv=10, scoring='accuracy').mean())\n",
        "gradient_accuracy.append(cross_val_score(gradientbost, X, y, cv=10, scoring='accuracy').mean())\n",
        "# Entrenamiento del dataset digits\n",
        "digits = datasets.load_digits()\n",
        "X = digits.data\n",
        "y = digits.target\n",
        "adabost_accuracy.append(cross_val_score(adabost, X, y, cv=10, scoring='accuracy').mean())\n",
        "gradient_accuracy.append(cross_val_score(gradientbost, X, y, cv=10, scoring='accuracy').mean())\n",
        "# Entrenamiento del dataset segment challenge\n",
        "data = arff.loadarff('/content/Introduccion_Mineria_Datos/PRACTICAS/misDatasets/segment-challenge.arff')\n",
        "df = pd.DataFrame(data[0])\n",
        "df.to_csv('segment-challenge.csv', index=None)\n",
        "segment_challenge = pd.read_csv('segment-challenge.csv')\n",
        "X = segment_challenge.drop('class', axis=1)\n",
        "y = segment_challenge['class']\n",
        "adabost_accuracy.append(cross_val_score(adabost, X, y, cv=10, scoring='accuracy').mean())\n",
        "gradient_accuracy.append(cross_val_score(gradientbost, X, y, cv=10, scoring='accuracy').mean())\n",
        "# Entrenamiento del dataset glass\n",
        "data = arff.loadarff('/content/Introduccion_Mineria_Datos/PRACTICAS/misDatasets/glass.arff')\n",
        "df = pd.DataFrame(data[0])\n",
        "df.to_csv('glass.csv', index=None)\n",
        "glass = pd.read_csv('glass.csv')\n",
        "X = glass.drop('Type', axis=1)\n",
        "y = glass['Type']\n",
        "adabost_accuracy.append(cross_val_score(adabost, X, y, cv=10, scoring='accuracy').mean())\n",
        "gradient_accuracy.append(cross_val_score(gradientbost, X, y, cv=10, scoring='accuracy').mean())"
      ],
      "metadata": {
        "colab": {
          "base_uri": "https://localhost:8080/"
        },
        "id": "hmnKdOhCjoI3",
        "outputId": "91ac46af-fb44-49c5-c5db-83253323a981"
      },
      "execution_count": null,
      "outputs": [
        {
          "output_type": "stream",
          "name": "stderr",
          "text": [
            "/usr/local/lib/python3.8/dist-packages/sklearn/model_selection/_split.py:676: UserWarning: The least populated class in y has only 1 members, which is less than n_splits=10.\n",
            "  warnings.warn(\n",
            "/usr/local/lib/python3.8/dist-packages/sklearn/model_selection/_split.py:676: UserWarning: The least populated class in y has only 1 members, which is less than n_splits=10.\n",
            "  warnings.warn(\n",
            "/usr/local/lib/python3.8/dist-packages/sklearn/model_selection/_split.py:676: UserWarning: The least populated class in y has only 9 members, which is less than n_splits=10.\n",
            "  warnings.warn(\n",
            "/usr/local/lib/python3.8/dist-packages/sklearn/model_selection/_split.py:676: UserWarning: The least populated class in y has only 9 members, which is less than n_splits=10.\n",
            "  warnings.warn(\n"
          ]
        }
      ]
    },
    {
      "cell_type": "code",
      "source": [
        "# Mostramos los resultados obtenidos\n",
        "print('Dataset: Accuracy Adaboost; Accuracy GradientBoosting')\n",
        "for i in range (0, len(basesDatos)):\n",
        "  print('{}: {}; {}'.format(basesDatos[i], adabost_accuracy[i],gradient_accuracy[i]))\n",
        "\n",
        "plt.boxplot([adabost_accuracy, gradient_accuracy], labels=[\"Adaboost\", \"GradientBoosting\"])\n",
        "plt.title('Metodo boosting')\n",
        "plt.xlabel(\"Metodo\")\n",
        "plt.ylabel(\"Precision\")\n",
        "plt.show()"
      ],
      "metadata": {
        "colab": {
          "base_uri": "https://localhost:8080/",
          "height": 486
        },
        "id": "VNCcsSi3lGBZ",
        "outputId": "41ae5821-4443-4f27-cc3e-a4b5d308c53c"
      },
      "execution_count": null,
      "outputs": [
        {
          "output_type": "stream",
          "name": "stdout",
          "text": [
            "Dataset: Accuracy Adaboost; Accuracy GradientBoosting\n",
            "iris: 0.9533333333333334; 0.96\n",
            "wine: 0.8833333333333332; 0.9104575163398693\n",
            "diabetes: 0.7539473684210527; 0.7435064935064937\n",
            "breast cancer: 0.9613095238095237; 0.9614035087719298\n",
            "titanic: 0.7534456928838951; 0.8024469413233458\n",
            "abalone: 0.21403795623788052; 0.24756520142737481\n",
            "ildp: 0.7160365853658537; 0.7184756097560976\n",
            "digits: 0.26263500931098693; 0.9337430167597764\n",
            "segment_challenge: 0.44066666666666665; 0.9799999999999999\n",
            "glass: 0.4675324675324675; 0.7902597402597403\n"
          ]
        },
        {
          "output_type": "display_data",
          "data": {
            "text/plain": [
              "<Figure size 432x288 with 1 Axes>"
            ],
            "image/png": "[encoded data removed]"
          },
          "metadata": {
            "needs_background": "light"
          }
        }
      ]
    },
    {
      "cell_type": "markdown",
      "source": [
        "# Comparación aplicando el método de Iman-davenport"
      ],
      "metadata": {
        "id": "CXRxUVjZo7X_"
      }
    },
    {
      "cell_type": "code",
      "source": [
        "from scipy.stats import mannwhitneyu\n",
        "from scipy.stats import wilcoxon\n",
        "# Comparamos los modelos\n",
        "print('Test de Iman-Davenport de comparación de los clasificadores bagging')\n",
        "if(mannwhitneyu(bagging_arbol,bagging_svc).pvalue < 0.50):\n",
        "  print('Se rechaza la hipotesis nula del test de Iman-Davenport')\n",
        "  print('Test de wilcoxon arbol vs bagging: ', wilcoxon(arbol_score, bagging_arbol))\n",
        "  print('Test de wilcoxon svc vs bagging: ', wilcoxon(svc_score, bagging_svc))\n",
        "# Comparamos cada modelo con el clasificador base\n",
        "print('Test de Iman-Davenport de comparacion de los algoritmos boosting')\n",
        "if(mannwhitneyu(adabost_accuracy, gradient_accuracy).pvalue < 0.50):\n",
        "  print('Se rechaza la hipotesis nula del test de Iman-Davenport')\n",
        "  print('Test de wilcoxon adabost vs arbol: ', wilcoxon(adabost_accuracy, arbol_score))\n",
        "  print('Test de wilcoxon adabost vs svc: ', wilcoxon(adabost_accuracy, svc_score))\n",
        "  print('Test de Wilcoxon gradientbost vs arbol: ', wilcoxon(gradient_accuracy, arbol_score))\n",
        "  print('Test de Wilcoxon gradientbost vs svc: ', wilcoxon(gradient_accuracy, svc_score))"
      ],
      "metadata": {
        "colab": {
          "base_uri": "https://localhost:8080/"
        },
        "id": "sg6ShPG7o_Du",
        "outputId": "9b544613-123f-49fe-8e16-27ca69aebd2a"
      },
      "execution_count": null,
      "outputs": [
        {
          "output_type": "stream",
          "name": "stdout",
          "text": [
            "Test de Iman-Davenport de comparación de los clasificadores bagging\n",
            "Se rechaza la hipotesis nula del test de Iman-Davenport\n",
            "Test de wilcoxon arbol vs bagging:  WilcoxonResult(statistic=19.0, pvalue=0.431640625)\n",
            "Test de wilcoxon svc vs bagging:  WilcoxonResult(statistic=0.0, pvalue=0.007685794055213263)\n",
            "Test de Iman-Davenport de comparacion de los algoritmos boosting\n",
            "Se rechaza la hipotesis nula del test de Iman-Davenport\n",
            "Test de wilcoxon adabost vs arbol:  WilcoxonResult(statistic=17.0, pvalue=0.5146697234497355)\n",
            "Test de wilcoxon adabost vs svc:  WilcoxonResult(statistic=2.0, pvalue=0.005859375)\n",
            "Test de Wilcoxon gradientbost vs arbol:  WilcoxonResult(statistic=0.0, pvalue=0.001953125)\n",
            "Test de Wilcoxon gradientbost vs svc:  WilcoxonResult(statistic=26.0, pvalue=0.921875)\n"
          ]
        },
        {
          "output_type": "stream",
          "name": "stderr",
          "text": [
            "/usr/local/lib/python3.8/dist-packages/scipy/stats/morestats.py:3141: UserWarning: Exact p-value calculation does not work if there are ties. Switching to normal approximation.\n",
            "  warnings.warn(\"Exact p-value calculation does not work if there are \"\n",
            "/usr/local/lib/python3.8/dist-packages/scipy/stats/morestats.py:3155: UserWarning: Sample size too small for normal approximation.\n",
            "  warnings.warn(\"Sample size too small for normal approximation.\")\n"
          ]
        }
      ]
    },
    {
      "cell_type": "markdown",
      "source": [
        "# Parte 4. Clasificación multiclase"
      ],
      "metadata": {
        "id": "jP53PA7iwFey"
      }
    },
    {
      "cell_type": "markdown",
      "source": [
        "# Conjuntos de datos a clasificar"
      ],
      "metadata": {
        "id": "xOapSHdbIocd"
      }
    },
    {
      "cell_type": "code",
      "source": [
        "from sklearn import datasets\n",
        "from sklearn.linear_model import LogisticRegression\n",
        "\n",
        "import pandas as pd\n",
        "from scipy.io import arff\n",
        "from sklearn.metrics import accuracy_score\n",
        "import matplotlib.pyplot as plt\n",
        "model = LogisticRegression()\n",
        "basesDatos = []\n",
        "iris = pd.read_csv('/content/Introduccion_Mineria_Datos/PRACTICAS/misDatasets/iris.data',\n",
        "                   header=None,names=[\"sepal length\",\"sepal width\",\"petal length\",\"petal width\",\"class\"])\n",
        "iris_features= [\"sepal length\",\"sepal width\",\"petal length\",\"petal width\"]\n",
        "iris_X=iris[iris_features]\n",
        "iris_y=iris[\"class\"]\n",
        "basesDatos.append('iris')\n",
        "print(\"Numero de clases del dataset iris: \",len(iris_y.unique()))\n",
        "wine = pd.read_csv('/content/Introduccion_Mineria_Datos/PRACTICAS/misDatasets/wine.data', header = None,names = ['class', 'Alcohol', 'Malic_acid', 'Ash', 'Alcalinity_of_ash', 'Magnesium', 'Total_phenols','Flavanoids', 'Nonflavanoid_phenols', 'Proanthocyanins', 'Color_intensity', 'Hue', 'OD280/OD315','Proline'])\n",
        "wine_features = ['Alcohol', 'Malic_acid', 'Ash', 'Alcalinity_of_ash', 'Magnesium', 'Total_phenols', 'Flavanoids', 'Nonflavanoid_phenols', 'Proanthocyanins', 'Color_intensity', 'Hue', 'OD280/OD315', 'Proline']\n",
        "wine_X=wine[wine_features]\n",
        "wine_y=wine['class']\n",
        "basesDatos.append(\"wine\")\n",
        "\n",
        "print(\"Numero de clases del dataset wine: \", len(wine_y.unique()))\n",
        "\n",
        "abalone = pd.read_csv('/content/Introduccion_Mineria_Datos/PRACTICAS/misDatasets/abalone.data',header = None,names = ['Sex', 'Length', 'Diameter', 'Height', 'Whole weight', 'Shucked weight', 'Viscera weight', 'Shell weight', 'Rings'])\n",
        "abalone['Sex'] = abalone['Sex'].map({'M': 0, 'F': 1, 'I': 2})\n",
        "abalone_features = ['Sex', 'Length', 'Diameter', 'Height', 'Whole weight', 'Shucked weight', 'Viscera weight', 'Shell weight']\n",
        "abalone_X = abalone[abalone_features]\n",
        "abalone_Y = abalone['Rings']\n",
        "basesDatos.append('abalone')\n",
        "print(\"Numero de clases del dataset abalone: \",len(abalone_Y.unique()))\n",
        "\n",
        "digits = datasets.load_digits()\n",
        "basesDatos.append('digits')\n",
        "print(\"Numero de clases del dataset digits: \",len(digits.target_names))\n",
        "\n",
        "data = arff.loadarff('/content/Introduccion_Mineria_Datos/PRACTICAS/misDatasets/segment-challenge.arff')\n",
        "df = pd.DataFrame(data[0])\n",
        "df.to_csv('segment-challenge.csv', index=None)\n",
        "segment_challenge = pd.read_csv('segment-challenge.csv')\n",
        "segment_challenge_X = segment_challenge.drop('class', axis=1)\n",
        "segment_challenge_Y = segment_challenge['class']\n",
        "basesDatos.append('segment_challenge')\n",
        "print(\"Numero de clases del dataset segment_challenge: \",len(segment_challenge_Y.unique()))\n",
        "\n",
        "data = arff.loadarff('/content/Introduccion_Mineria_Datos/PRACTICAS/misDatasets/glass.arff')\n",
        "df = pd.DataFrame(data[0])\n",
        "df.to_csv('glass.csv', index=None)\n",
        "glass = pd.read_csv('glass.csv')\n",
        "glass_X = glass.drop('Type', axis=1)\n",
        "glass_Y = glass['Type']\n",
        "basesDatos.append('glass')\n",
        "print(\"Numero de clases del dataset glass: \",len(glass_Y.unique()))\n",
        "\n",
        "data = arff.loadarff('/content/Introduccion_Mineria_Datos/PRACTICAS/misDatasets/Dry_Bean_Dataset.arff')\n",
        "df = pd.DataFrame(data[0])\n",
        "df.to_csv('Dry_Bean_Dataset.csv', index=None)\n",
        "dry_bean = pd.read_csv('Dry_Bean_Dataset.csv')\n",
        "dry_bean_X = dry_bean.drop('Class', axis=1)\n",
        "dry_bean_Y = dry_bean['Class']\n",
        "basesDatos.append('dryBean')\n",
        "print(\"Numero de clases del dataset dry_bean: \",len(dry_bean_Y.unique()))\n",
        "\n",
        "car = pd.read_csv('/content/Introduccion_Mineria_Datos/PRACTICAS/misDatasets/car.data', \n",
        "                    header = None,\n",
        "                    names = ['buying', 'maint', 'doors', 'persons', 'lug_boot', 'safety', 'class'])\n",
        "car['buying'] = car['buying'].map({'vhigh': 0, 'high': 1, 'med': 2, 'low': 3})\n",
        "car['maint'] = car['maint'].map({'vhigh': 0, 'high': 1, 'med': 2, 'low': 3})\n",
        "car['doors'] = car['doors'].map({'2': 0, '3': 1, '4': 2, '5more': 3})\n",
        "car['persons'] = car['persons'].map({'2': 0, '4': 1, 'more': 2})\n",
        "car['lug_boot'] = car['lug_boot'].map({'small': 0, 'med': 1, 'big': 2})\n",
        "car['safety'] = car['safety'].map({'low': 0, 'med': 1, 'high': 2})\n",
        "car['class'] = car['class'].map({'unacc': 0, 'acc': 1, 'good': 2, 'vgood': 3})\n",
        "car_features = ['buying', 'maint', 'doors', 'persons', 'lug_boot', 'safety']\n",
        "car_X = car[car_features]\n",
        "car_Y = car['class']\n",
        "basesDatos.append('car')\n",
        "print(\"Numero de clases del dataset car: \",len(car_Y.unique()))\n",
        "\n",
        "zoo = pd.read_csv('/content/Introduccion_Mineria_Datos/PRACTICAS/misDatasets/zoo.data', \n",
        "                    header = None,\n",
        "                    names = ['animal_name', 'hair', 'feathers', 'eggs', 'milk', 'airzorne', 'aquatic', 'predator', 'toothed', 'backbone', 'breathes', 'venomous', 'fins', 'legs', 'tail', 'domestic', 'catsize', 'class_type'])\n",
        "zoo_features = ['hair', 'feathers', 'eggs', 'milk', 'airzorne', 'aquatic', 'predator', 'toothed', 'backbone', 'breathes', 'venomous', 'fins', 'legs', 'tail', 'domestic', 'catsize']\n",
        "zoo_X = zoo[zoo_features]\n",
        "zoo_Y = zoo['class_type']\n",
        "basesDatos.append('zoo')\n",
        "print(\"Numero de clases del dataset zoo: \",len(zoo_Y.unique()))\n",
        "balance_scale = pd.read_csv('/content/Introduccion_Mineria_Datos/PRACTICAS/misDatasets/balance-scale.data',\n",
        "                            header = None,\n",
        "                            names = ['class_name', 'left_weight', 'left_distance', 'right_weight', 'right_distance'])\n",
        "\n",
        "balance_scale['class_name'] = balance_scale['class_name'].map({'B': 0, 'R': 1, 'L': 2})\n",
        "balance_scale_features = ['left_weight', 'left_distance', 'right_weight', 'right_distance']\n",
        "balance_scale_X = balance_scale[balance_scale_features]\n",
        "balance_scale_Y = balance_scale['class_name']\n",
        "basesDatos.append('balance_scale')\n",
        "print(\"Numero de clases del dataset balance_scale: \",len(balance_scale_Y.unique()))\n"
      ],
      "metadata": {
        "colab": {
          "base_uri": "https://localhost:8080/"
        },
        "id": "NpavPYLZI9Nb",
        "outputId": "29a1251d-f0c7-42bd-a430-3786753cd754"
      },
      "execution_count": 24,
      "outputs": [
        {
          "output_type": "stream",
          "name": "stdout",
          "text": [
            "Numero de clases del dataset iris:  3\n",
            "Numero de clases del dataset wine:  3\n",
            "Numero de clases del dataset abalone:  28\n",
            "Numero de clases del dataset digits:  10\n",
            "Numero de clases del dataset segment_challenge:  7\n",
            "Numero de clases del dataset glass:  6\n",
            "Numero de clases del dataset dry_bean:  7\n",
            "Numero de clases del dataset car:  4\n",
            "Numero de clases del dataset zoo:  7\n",
            "Numero de clases del dataset balance_scale:  3\n"
          ]
        }
      ]
    },
    {
      "cell_type": "markdown",
      "source": [
        "Entrenamiento del clasificador"
      ],
      "metadata": {
        "id": "MILUHtc8O2Fz"
      }
    },
    {
      "cell_type": "code",
      "source": [
        "clf_accuracy = []\n",
        "clf.fit(iris_X, iris_y)\n",
        "iris_y_pred = clf.predict(iris_X)\n",
        "clf_accuracy.append(accuracy_score(iris_y, iris_y_pred))\n",
        "\n",
        "clf.fit(wine_X, wine_y)\n",
        "wine_y_pred = clf.predict(wine_X)\n",
        "clf_accuracy.append(accuracy_score(wine_y, wine_y_pred))\n",
        "\n",
        "clf.fit(abalone_X, abalone_Y)\n",
        "abalone_y_pred = clf.predict(abalone_X)\n",
        "clf_accuracy.append(accuracy_score(abalone_Y, abalone_y_pred))\n",
        "\n",
        "clf.fit(digits.data, digits.target)\n",
        "digits_y_pred = clf.predict(digits.data)\n",
        "clf_accuracy.append(accuracy_score(digits.target, digits_y_pred))\n",
        "\n",
        "clf.fit(segment_challenge_X, segment_challenge_Y)\n",
        "segment_challenge_y_pred = clf.predict(segment_challenge_X)\n",
        "clf_accuracy.append(accuracy_score(segment_challenge_Y, segment_challenge_y_pred))\n",
        "\n",
        "clf.fit(glass_X, glass_Y)\n",
        "glass_y_pred = clf.predict(glass_X)\n",
        "clf_accuracy.append(accuracy_score(glass_Y, glass_y_pred))\n",
        "\n",
        "clf.fit(dry_bean_X, dry_bean_Y)\n",
        "dry_bean_y_pred = clf.predict(dry_bean_X)\n",
        "clf_accuracy.append(accuracy_score(dry_bean_Y, dry_bean_y_pred))\n",
        "\n",
        "clf.fit(car_X, car_Y)\n",
        "car_y_pred = clf.predict(car_X)\n",
        "clf_accuracy.append(accuracy_score(car_Y, car_y_pred))\n",
        "\n",
        "clf.fit(zoo_X, zoo_Y)\n",
        "zoo_y_pred = clf.predict(zoo_X)\n",
        "clf_accuracy.append(accuracy_score(zoo_Y, zoo_y_pred))\n",
        "\n",
        "clf.fit(balance_scale_X, balance_scale_Y)\n",
        "balance_scale_y_pred = clf.predict(balance_scale_X)\n",
        "clf_accuracy.append(accuracy_score(balance_scale_Y, balance_scale_y_pred))"
      ],
      "metadata": {
        "colab": {
          "base_uri": "https://localhost:8080/"
        },
        "id": "qJEzepzZO7EQ",
        "outputId": "fcf7df0c-c5d8-4b6e-e575-4672cf479536"
      },
      "execution_count": 26,
      "outputs": [
        {
          "output_type": "stream",
          "name": "stderr",
          "text": [
            "/usr/local/lib/python3.8/dist-packages/sklearn/linear_model/_logistic.py:814: ConvergenceWarning: lbfgs failed to converge (status=1):\n",
            "STOP: TOTAL NO. of ITERATIONS REACHED LIMIT.\n",
            "\n",
            "Increase the number of iterations (max_iter) or scale the data as shown in:\n",
            "    https://scikit-learn.org/stable/modules/preprocessing.html\n",
            "Please also refer to the documentation for alternative solver options:\n",
            "    https://scikit-learn.org/stable/modules/linear_model.html#logistic-regression\n",
            "  n_iter_i = _check_optimize_result(\n",
            "/usr/local/lib/python3.8/dist-packages/sklearn/linear_model/_logistic.py:814: ConvergenceWarning: lbfgs failed to converge (status=1):\n",
            "STOP: TOTAL NO. of ITERATIONS REACHED LIMIT.\n",
            "\n",
            "Increase the number of iterations (max_iter) or scale the data as shown in:\n",
            "    https://scikit-learn.org/stable/modules/preprocessing.html\n",
            "Please also refer to the documentation for alternative solver options:\n",
            "    https://scikit-learn.org/stable/modules/linear_model.html#logistic-regression\n",
            "  n_iter_i = _check_optimize_result(\n",
            "/usr/local/lib/python3.8/dist-packages/sklearn/linear_model/_logistic.py:814: ConvergenceWarning: lbfgs failed to converge (status=1):\n",
            "STOP: TOTAL NO. of ITERATIONS REACHED LIMIT.\n",
            "\n",
            "Increase the number of iterations (max_iter) or scale the data as shown in:\n",
            "    https://scikit-learn.org/stable/modules/preprocessing.html\n",
            "Please also refer to the documentation for alternative solver options:\n",
            "    https://scikit-learn.org/stable/modules/linear_model.html#logistic-regression\n",
            "  n_iter_i = _check_optimize_result(\n",
            "/usr/local/lib/python3.8/dist-packages/sklearn/linear_model/_logistic.py:814: ConvergenceWarning: lbfgs failed to converge (status=1):\n",
            "STOP: TOTAL NO. of ITERATIONS REACHED LIMIT.\n",
            "\n",
            "Increase the number of iterations (max_iter) or scale the data as shown in:\n",
            "    https://scikit-learn.org/stable/modules/preprocessing.html\n",
            "Please also refer to the documentation for alternative solver options:\n",
            "    https://scikit-learn.org/stable/modules/linear_model.html#logistic-regression\n",
            "  n_iter_i = _check_optimize_result(\n",
            "/usr/local/lib/python3.8/dist-packages/sklearn/linear_model/_logistic.py:814: ConvergenceWarning: lbfgs failed to converge (status=1):\n",
            "STOP: TOTAL NO. of ITERATIONS REACHED LIMIT.\n",
            "\n",
            "Increase the number of iterations (max_iter) or scale the data as shown in:\n",
            "    https://scikit-learn.org/stable/modules/preprocessing.html\n",
            "Please also refer to the documentation for alternative solver options:\n",
            "    https://scikit-learn.org/stable/modules/linear_model.html#logistic-regression\n",
            "  n_iter_i = _check_optimize_result(\n",
            "/usr/local/lib/python3.8/dist-packages/sklearn/linear_model/_logistic.py:814: ConvergenceWarning: lbfgs failed to converge (status=1):\n",
            "STOP: TOTAL NO. of ITERATIONS REACHED LIMIT.\n",
            "\n",
            "Increase the number of iterations (max_iter) or scale the data as shown in:\n",
            "    https://scikit-learn.org/stable/modules/preprocessing.html\n",
            "Please also refer to the documentation for alternative solver options:\n",
            "    https://scikit-learn.org/stable/modules/linear_model.html#logistic-regression\n",
            "  n_iter_i = _check_optimize_result(\n",
            "/usr/local/lib/python3.8/dist-packages/sklearn/linear_model/_logistic.py:814: ConvergenceWarning: lbfgs failed to converge (status=1):\n",
            "STOP: TOTAL NO. of ITERATIONS REACHED LIMIT.\n",
            "\n",
            "Increase the number of iterations (max_iter) or scale the data as shown in:\n",
            "    https://scikit-learn.org/stable/modules/preprocessing.html\n",
            "Please also refer to the documentation for alternative solver options:\n",
            "    https://scikit-learn.org/stable/modules/linear_model.html#logistic-regression\n",
            "  n_iter_i = _check_optimize_result(\n"
          ]
        }
      ]
    },
    {
      "cell_type": "code",
      "source": [
        "plt.barh(basesDatos,clf_accuracy)\n",
        "plt.xlabel('Accuracy')\n",
        "plt.ylabel('Datasets')\n",
        "plt.title(\"Logistic Regresion\")\n",
        "plt.show()"
      ],
      "metadata": {
        "colab": {
          "base_uri": "https://localhost:8080/",
          "height": 295
        },
        "id": "gASI2wEALL4W",
        "outputId": "7d128a76-d090-48b7-f095-d245ab0ae1b5"
      },
      "execution_count": 27,
      "outputs": [
        {
          "output_type": "display_data",
          "data": {
            "text/plain": [
              "<Figure size 432x288 with 1 Axes>"
            ],
            "image/png": "[encoded data removed]"
          },
          "metadata": {
            "needs_background": "light"
          }
        }
      ]
    },
    {
      "cell_type": "markdown",
      "source": [
        "# Aplicamos el método one-versus-one"
      ],
      "metadata": {
        "id": "259-uGEEjodz"
      }
    },
    {
      "cell_type": "code",
      "source": [
        "from sklearn.multiclass import OneVsOneClassifier\n",
        "from sklearn.linear_model import LogisticRegression\n",
        "from sklearn.metrics import accuracy_score\n",
        "logreg = LogisticRegression(solver='lbfgs', multi_class='auto', max_iter=100000)\n",
        "ovo = OneVsOneClassifier(logreg)\n",
        "\n",
        "ovo_accuracy = []\n",
        "clf.fit(iris_X, iris_y)\n",
        "ovo_accuracy.append(accuracy_score(iris_y, clf.predict(iris_X)))\n",
        "\n",
        "clf.fit(wine_X, wine_y)\n",
        "ovo_accuracy.append(accuracy_score(wine_y, clf.predict(wine_X)))\n",
        "\n",
        "clf.fit(abalone_X, abalone_Y)\n",
        "ovo_accuracy.append(accuracy_score(abalone_Y, clf.predict(abalone_X)))\n",
        "\n",
        "clf.fit(digits.data, digits.target)\n",
        "ovo_accuracy.append(accuracy_score(digits.target, clf.predict(digits.data)))\n",
        "\n",
        "clf.fit(segment_challenge_X, segment_challenge_Y)\n",
        "ovo_accuracy.append(accuracy_score(segment_challenge_Y, clf.predict(segment_challenge_X)))\n",
        "\n",
        "clf.fit(glass_X, glass_Y)\n",
        "ovo_accuracy.append(accuracy_score(glass_Y, clf.predict(glass_X)))\n",
        "\n",
        "clf.fit(dry_bean_X, dry_bean_Y)\n",
        "ovo_accuracy.append(accuracy_score(dry_bean_Y, clf.predict(dry_bean_X)))\n",
        "\n",
        "clf.fit(car_X, car_Y)\n",
        "ovo_accuracy.append(accuracy_score(car_Y, clf.predict(car_X)))\n",
        "\n",
        "clf.fit(zoo_X, zoo_Y)\n",
        "ovo_accuracy.append(accuracy_score(zoo_Y, clf.predict(zoo_X)))\n",
        "\n",
        "clf.fit(balance_scale_X, balance_scale_Y)\n",
        "ovo_accuracy.append(accuracy_score(balance_scale_Y, clf.predict(balance_scale_X)))"
      ],
      "metadata": {
        "id": "esFd-7jLkfGH"
      },
      "execution_count": null,
      "outputs": []
    },
    {
      "cell_type": "code",
      "source": [
        "plt.barh(basesDatos,ovo_accuracy)\n",
        "plt.xlabel('Accuracy')\n",
        "plt.ylabel('Datasets')\n",
        "plt.title(\"Regresion Logistica con metodo OVO\")\n",
        "plt.show()"
      ],
      "metadata": {
        "colab": {
          "base_uri": "https://localhost:8080/",
          "height": 295
        },
        "id": "icAEQq0Hn59p",
        "outputId": "a1b00c1e-5261-4eda-f025-34f9209644dc"
      },
      "execution_count": 32,
      "outputs": [
        {
          "output_type": "display_data",
          "data": {
            "text/plain": [
              "<Figure size 432x288 with 1 Axes>"
            ],
            "image/png": "[encoded data removed]"
          },
          "metadata": {
            "needs_background": "light"
          }
        }
      ]
    },
    {
      "cell_type": "markdown",
      "source": [
        "# Aplicamos el método uno-contra-todos"
      ],
      "metadata": {
        "id": "Re-IzHzi0P5S"
      }
    },
    {
      "cell_type": "code",
      "source": [
        "from sklearn.multiclass import OneVsRestClassifier\n",
        "from sklearn.linear_model import LogisticRegression\n",
        "from sklearn.metrics import accuracy_score\n",
        "logreg = LogisticRegression(solver='lbfgs', multi_class='auto', max_iter=100000)\n",
        "ova = OneVsRestClassifier(logreg)\n",
        "ova_accuracy = []\n",
        "\n",
        "clf.fit(iris_X, iris_y)\n",
        "ova_accuracy.append(accuracy_score(iris_y, clf.predict(iris_X)))\n",
        "\n",
        "clf.fit(wine_X, wine_y)\n",
        "ova_accuracy.append(accuracy_score(wine_y, clf.predict(wine_X)))\n",
        "\n",
        "clf.fit(abalone_X, abalone_Y)\n",
        "ova_accuracy.append(accuracy_score(abalone_Y, clf.predict(abalone_X)))\n",
        "\n",
        "clf.fit(digits.data, digits.target)\n",
        "ova_accuracy.append(accuracy_score(digits.target, clf.predict(digits.data)))\n",
        "\n",
        "clf.fit(segment_challenge_X, segment_challenge_Y)\n",
        "ova_accuracy.append(accuracy_score(segment_challenge_Y, clf.predict(segment_challenge_X)))\n",
        "\n",
        "clf.fit(glass_X, glass_Y)\n",
        "ova_accuracy.append(accuracy_score(glass_Y, clf.predict(glass_X)))\n",
        "\n",
        "clf.fit(dry_bean_X, dry_bean_Y)\n",
        "ova_accuracy.append(accuracy_score(dry_bean_Y, clf.predict(dry_bean_X)))\n",
        "\n",
        "clf.fit(car_X, car_Y)\n",
        "ova_accuracy.append(accuracy_score(car_Y, clf.predict(car_X)))\n",
        "\n",
        "clf.fit(zoo_X, zoo_Y)\n",
        "ova_accuracy.append(accuracy_score(zoo_Y, clf.predict(zoo_X)))\n",
        "\n",
        "clf.fit(balance_scale_X, balance_scale_Y)\n",
        "ova_accuracy.append(accuracy_score(balance_scale_Y, clf.predict(balance_scale_X)))"
      ],
      "metadata": {
        "colab": {
          "base_uri": "https://localhost:8080/"
        },
        "id": "A53-eacDpL6M",
        "outputId": "51a782b1-9779-4991-d991-81a69b5160a3"
      },
      "execution_count": 33,
      "outputs": [
        {
          "output_type": "stream",
          "name": "stderr",
          "text": [
            "/usr/local/lib/python3.8/dist-packages/sklearn/linear_model/_logistic.py:814: ConvergenceWarning: lbfgs failed to converge (status=1):\n",
            "STOP: TOTAL NO. of ITERATIONS REACHED LIMIT.\n",
            "\n",
            "Increase the number of iterations (max_iter) or scale the data as shown in:\n",
            "    https://scikit-learn.org/stable/modules/preprocessing.html\n",
            "Please also refer to the documentation for alternative solver options:\n",
            "    https://scikit-learn.org/stable/modules/linear_model.html#logistic-regression\n",
            "  n_iter_i = _check_optimize_result(\n",
            "/usr/local/lib/python3.8/dist-packages/sklearn/linear_model/_logistic.py:814: ConvergenceWarning: lbfgs failed to converge (status=1):\n",
            "STOP: TOTAL NO. of ITERATIONS REACHED LIMIT.\n",
            "\n",
            "Increase the number of iterations (max_iter) or scale the data as shown in:\n",
            "    https://scikit-learn.org/stable/modules/preprocessing.html\n",
            "Please also refer to the documentation for alternative solver options:\n",
            "    https://scikit-learn.org/stable/modules/linear_model.html#logistic-regression\n",
            "  n_iter_i = _check_optimize_result(\n",
            "/usr/local/lib/python3.8/dist-packages/sklearn/linear_model/_logistic.py:814: ConvergenceWarning: lbfgs failed to converge (status=1):\n",
            "STOP: TOTAL NO. of ITERATIONS REACHED LIMIT.\n",
            "\n",
            "Increase the number of iterations (max_iter) or scale the data as shown in:\n",
            "    https://scikit-learn.org/stable/modules/preprocessing.html\n",
            "Please also refer to the documentation for alternative solver options:\n",
            "    https://scikit-learn.org/stable/modules/linear_model.html#logistic-regression\n",
            "  n_iter_i = _check_optimize_result(\n",
            "/usr/local/lib/python3.8/dist-packages/sklearn/linear_model/_logistic.py:814: ConvergenceWarning: lbfgs failed to converge (status=1):\n",
            "STOP: TOTAL NO. of ITERATIONS REACHED LIMIT.\n",
            "\n",
            "Increase the number of iterations (max_iter) or scale the data as shown in:\n",
            "    https://scikit-learn.org/stable/modules/preprocessing.html\n",
            "Please also refer to the documentation for alternative solver options:\n",
            "    https://scikit-learn.org/stable/modules/linear_model.html#logistic-regression\n",
            "  n_iter_i = _check_optimize_result(\n",
            "/usr/local/lib/python3.8/dist-packages/sklearn/linear_model/_logistic.py:814: ConvergenceWarning: lbfgs failed to converge (status=1):\n",
            "STOP: TOTAL NO. of ITERATIONS REACHED LIMIT.\n",
            "\n",
            "Increase the number of iterations (max_iter) or scale the data as shown in:\n",
            "    https://scikit-learn.org/stable/modules/preprocessing.html\n",
            "Please also refer to the documentation for alternative solver options:\n",
            "    https://scikit-learn.org/stable/modules/linear_model.html#logistic-regression\n",
            "  n_iter_i = _check_optimize_result(\n",
            "/usr/local/lib/python3.8/dist-packages/sklearn/linear_model/_logistic.py:814: ConvergenceWarning: lbfgs failed to converge (status=1):\n",
            "STOP: TOTAL NO. of ITERATIONS REACHED LIMIT.\n",
            "\n",
            "Increase the number of iterations (max_iter) or scale the data as shown in:\n",
            "    https://scikit-learn.org/stable/modules/preprocessing.html\n",
            "Please also refer to the documentation for alternative solver options:\n",
            "    https://scikit-learn.org/stable/modules/linear_model.html#logistic-regression\n",
            "  n_iter_i = _check_optimize_result(\n",
            "/usr/local/lib/python3.8/dist-packages/sklearn/linear_model/_logistic.py:814: ConvergenceWarning: lbfgs failed to converge (status=1):\n",
            "STOP: TOTAL NO. of ITERATIONS REACHED LIMIT.\n",
            "\n",
            "Increase the number of iterations (max_iter) or scale the data as shown in:\n",
            "    https://scikit-learn.org/stable/modules/preprocessing.html\n",
            "Please also refer to the documentation for alternative solver options:\n",
            "    https://scikit-learn.org/stable/modules/linear_model.html#logistic-regression\n",
            "  n_iter_i = _check_optimize_result(\n"
          ]
        }
      ]
    },
    {
      "cell_type": "code",
      "source": [
        "plt.barh(basesDatos,ova_accuracy)\n",
        "plt.xlabel('Accuracy')\n",
        "plt.ylabel('Datasets')\n",
        "plt.title(\"Regresion Logistica con metodo OVA\")\n",
        "plt.show()"
      ],
      "metadata": {
        "colab": {
          "base_uri": "https://localhost:8080/",
          "height": 295
        },
        "id": "DNFPaSsk0Y4K",
        "outputId": "10153d7f-21bc-4adc-ad0a-2d376094f075"
      },
      "execution_count": 34,
      "outputs": [
        {
          "output_type": "display_data",
          "data": {
            "text/plain": [
              "<Figure size 432x288 with 1 Axes>"
            ],
            "image/png": "[encoded data removed]"
          },
          "metadata": {
            "needs_background": "light"
          }
        }
      ]
    },
    {
      "cell_type": "markdown",
      "source": [
        "# Aplicamos el metodo ECOC"
      ],
      "metadata": {
        "id": "DAF7nvl708Vw"
      }
    },
    {
      "cell_type": "code",
      "source": [
        "from sklearn.multiclass import OutputCodeClassifier\n",
        "from sklearn.linear_model import LogisticRegression\n",
        "from sklearn.metrics import accuracy_score\n",
        "logreg = LogisticRegression(solver='lbfgs', multi_class='auto', max_iter=100000)\n",
        "clf = OutputCodeClassifier(logreg, code_size=2, random_state=0)\n",
        "ecoc_accuracy = []\n",
        "\n",
        "clf.fit(iris_X, iris_y)\n",
        "ecoc_accuracy.append(accuracy_score(iris_y, clf.predict(iris_X)))\n",
        "\n",
        "clf.fit(wine_X, wine_y)\n",
        "ecoc_accuracy.append(accuracy_score(wine_y, clf.predict(wine_X)))\n",
        "\n",
        "clf.fit(abalone_X, abalone_Y)\n",
        "ecoc_accuracy.append(accuracy_score(abalone_Y, clf.predict(abalone_X)))\n",
        "\n",
        "clf.fit(digits.data, digits.target)\n",
        "ecoc_accuracy.append(accuracy_score(digits.target, clf.predict(digits.data)))\n",
        "\n",
        "clf.fit(segment_challenge_X, segment_challenge_Y)\n",
        "ecoc_accuracy.append(accuracy_score(segment_challenge_Y, clf.predict(segment_challenge_X)))\n",
        "\n",
        "clf.fit(glass_X, glass_Y)\n",
        "ecoc_accuracy.append(accuracy_score(glass_Y, clf.predict(glass_X)))\n",
        "\n",
        "clf.fit(dry_bean_X, dry_bean_Y)\n",
        "ecoc_accuracy.append(accuracy_score(dry_bean_Y, clf.predict(dry_bean_X)))\n",
        "\n",
        "clf.fit(car_X, car_Y)\n",
        "ecoc_accuracy.append(accuracy_score(car_Y, clf.predict(car_X)))\n",
        "\n",
        "clf.fit(zoo_X, zoo_Y)\n",
        "ecoc_accuracy.append(accuracy_score(zoo_Y, clf.predict(zoo_X)))\n",
        "\n",
        "clf.fit(balance_scale_X, balance_scale_Y)\n",
        "ecoc_accuracy.append(accuracy_score(balance_scale_Y, clf.predict(balance_scale_X)))"
      ],
      "metadata": {
        "id": "iROv0mT-0_h8"
      },
      "execution_count": 38,
      "outputs": []
    },
    {
      "cell_type": "code",
      "source": [
        "plt.barh(basesDatos,ecoc_accuracy)\n",
        "plt.xlabel('Accuracy')\n",
        "plt.ylabel('Datasets')\n",
        "plt.title(\"Regresion Logistica con metodo ECOC\")\n",
        "plt.show()"
      ],
      "metadata": {
        "colab": {
          "base_uri": "https://localhost:8080/",
          "height": 295
        },
        "id": "e0xnpbU010Q4",
        "outputId": "87cb30f0-42fe-481a-a394-a018953eb74a"
      },
      "execution_count": 39,
      "outputs": [
        {
          "output_type": "display_data",
          "data": {
            "text/plain": [
              "<Figure size 432x288 with 1 Axes>"
            ],
            "image/png": "[encoded data removed]"
          },
          "metadata": {
            "needs_background": "light"
          }
        }
      ]
    },
    {
      "cell_type": "markdown",
      "source": [
        "# Comparacion de diferencias significativas"
      ],
      "metadata": {
        "id": "-i4gdciS3JxN"
      }
    },
    {
      "cell_type": "code",
      "source": [
        "from scipy.stats import mannwhitneyu\n",
        "from scipy.stats import wilcoxon\n",
        "\n",
        "def wilcoxon(pvalue):\n",
        "  print('Se rechaza la hipotesis nula del test de Iman-Davenport. P-value = ', pvalue)\n",
        "  print('Test de wilcoxon ovo vs metodoBase: ', wilcoxon(clf_accuracy, ovo_accuracy))\n",
        "  print('Test de wilcoxon ovo vs ova: ', wilcoxon(ovo_accuracy, ova_accuracy))\n",
        "  print('Test de wilcoxon ovo vs ECOC: ', wilcoxon(ovo_accuracy, ecoc_accuracy))\n",
        "  print('Test de wilcoxon ova vs metodoBase: ', wilcoxon(ova_accuracy, clf_accuracy))\n",
        "  print('Test de wilcoxon ova vs ECOC: ', wilcoxon(ova_accuracy, ecoc_accuracy))\n",
        "  print('Test wilcoxon ecoc vs metodoBase: ', wilcoxon(ecoc_accuracy, clf_accuracy))\n",
        "\n",
        "print('Comparacion de OVO vs OVA')\n",
        "pvalue = mannwhitneyu(ovo_accuracy,ova_accuracy).pvalue\n",
        "if(pvalue < 0.50):\n",
        "  wilcoxon(pvalue)\n",
        "\n",
        "else:\n",
        "  print('No se detectan diferencias significativas en el test de Iman-Davenport. Pvalue = ', pvalue)\n",
        "\n",
        "print('Comparacion OVO vs ECOC')\n",
        "pvalue = mannwhitneyu(ovo_accuracy,ecoc_accuracy).pvalue\n",
        "if(pvalue < 0.50):\n",
        "  wilcoxon(pvalue)\n",
        "else:\n",
        "  print('No se detectan diferencias significativas en el test de Iman-Davenport. Pvalue = ', pvalue)\n",
        "\n",
        "print('Comparacion OVA vs ECOC')\n",
        "pvalue = mannwhitneyu(ova_accuracy, ecoc_accuracy).pvalue\n",
        "if(pvalue < 0.50):\n",
        "  wilcoxon(pvalue)\n",
        "else:\n",
        "  print('No se detectan diferencias significativas en el test de Iman-Davenport. Pvalue = ', pvalue)\n",
        "\n",
        "print('Metodo base vs OVO')\n",
        "pvalue = mannwhitneyu(clf_accuracy, ovo_accuracy).pvalue\n",
        "if(pvalue < 0.50):\n",
        "  wilcoxon(pvalue)\n",
        "else:\n",
        "  print('No se detectan diferencias significativas en el test de Iman-Davenport. Pvalue = ', pvalue)\n",
        "\n",
        "print('Metodo base vs OVA')\n",
        "pvalue = mannwhitneyu(clf_accuracy, ova_accuracy).pvalue\n",
        "if(pvalue < 0.50):\n",
        "  wilcoxon(pvalue)\n",
        "else:\n",
        "  print('No se detectan diferencias significativas en el test de Iman-Davenport. Pvalue = ', pvalue)\n",
        "\n",
        "print('Metodo base vs ECOC')\n",
        "pvalue = mannwhitneyu(clf_accuracy, ecoc_accuracy).pvalue\n",
        "if(pvalue < 0.50):\n",
        "  wilcoxon(pvalue)\n",
        "else:\n",
        "  print('No se detectan diferencias significativas en el test de Iman-Davenport. Pvalue = ', pvalue)\n"
      ],
      "metadata": {
        "colab": {
          "base_uri": "https://localhost:8080/"
        },
        "id": "GbnQON2O22eF",
        "outputId": "c35d4b19-b134-458e-a64c-10eb11da066a"
      },
      "execution_count": 52,
      "outputs": [
        {
          "output_type": "stream",
          "name": "stdout",
          "text": [
            "Comparacion de OVO vs OVA\n",
            "No se detectan diferencias significativas en el test de Iman-Davenport. Pvalue =  1.0\n",
            "Comparacion OVO vs ECOC\n",
            "No se detectan diferencias significativas en el test de Iman-Davenport. Pvalue =  0.7053513720635047\n",
            "Comparacion OVA vs ECOC\n",
            "No se detectan diferencias significativas en el test de Iman-Davenport. Pvalue =  0.7053513720635047\n",
            "Metodo base vs OVO\n",
            "No se detectan diferencias significativas en el test de Iman-Davenport. Pvalue =  1.0\n",
            "Metodo base vs OVA\n",
            "No se detectan diferencias significativas en el test de Iman-Davenport. Pvalue =  1.0\n",
            "Metodo base vs ECOC\n",
            "No se detectan diferencias significativas en el test de Iman-Davenport. Pvalue =  0.7053513720635047\n"
          ]
        }
      ]
    }
  ],
  "metadata": {
    "colab": {
      "provenance": [],
      "toc_visible": true,
      "authorship_tag": "ABX9TyOW2XM7OgnjviD0G6hNzZOy",
      "include_colab_link": true
    },
    "kernelspec": {
      "display_name": "Python 3",
      "name": "python3"
    },
    "language_info": {
      "name": "python"
    },
    "gpuClass": "standard"
  },
  "nbformat": 4,
  "nbformat_minor": 0
}